{
  "cells": [
    {
      "cell_type": "markdown",
      "metadata": {
        "id": "EzfnlG_gKLhF"
      },
      "source": [
        "# <center> Project 02: Application of classification in Marketing and Sales </center>"
      ]
    },
    {
      "cell_type": "markdown",
      "metadata": {
        "id": "jdPg2j8dKLhG"
      },
      "source": [
        "# Seminar goals:\n",
        "In this project, we will develop and apply different supervised classification tecnhiques. These methodologies are broadly used in business to multiple use cases as:\n",
        "- identify **new customers** in the market\n",
        "- identify customers in our internal Data Warehouse with **more likely** to buy a new product\n",
        "- identify unsatisfied customers and thus, likely to be **churners**\n",
        "- classify text into categories for spam identification or to process messages or emails from our customers\n",
        "\n",
        "During this project we will follow the end-to-end Machine Learning process: from data gathering and cleaning, exploratory data analysis, feature engineering and finally, training and prediction. In particular, the main sections of this project are:\n",
        "1. Data understanding and preparation: exploration of the dataset and feature engineering (missing values, outlier identification, categorical variables management) \n",
        "2. Model Training: training the baseline SVM and Decision Trees. Analysis of metrics (recall, precision, confusion metrics) and improvement the classification through several techniques as undersampling to balance or ensemble of models\n",
        "3. Creating a Business opportunity with Machine Learning: selection of the best model and identification of the most important features\n",
        "\n",
        "\n",
        "\n",
        "We will apply all these techniques to identify new customers to capture and improve sales in a **marketing use case**."
      ]
    },
    {
      "cell_type": "markdown",
      "metadata": {
        "id": "UYAFrceqKLhH"
      },
      "source": [
        "### Due date: up to June 17th, 23:55h. \n",
        "### Submission procedure: via Moodle."
      ]
    },
    {
      "cell_type": "markdown",
      "metadata": {
        "id": "-A4_3DZEKLhI"
      },
      "source": [
        "*******"
      ]
    },
    {
      "cell_type": "markdown",
      "metadata": {
        "id": "FZY4NReQKLhI"
      },
      "source": [
        "# 0. Context:  Using Machine Learning to increase our customers base"
      ]
    },
    {
      "cell_type": "markdown",
      "metadata": {
        "id": "diyA2X3aKLhJ"
      },
      "source": [
        "We work as a head of data science and AI in a new Internet of Things (IoT) company. Our company designs, builds and implements wireless IoT products.\n",
        "\n",
        "Our marketing colleagues are planning to launch a new commercial campaign for capturing new customers. We have to decide which companies are the target to be visited by our sales managers. As the cost to send a sales manager to visit a potential customer is quite high, we have to select from the total market base, those companies that are more likely to buy any of our products and become a new customer. \n",
        "\n",
        "To support this new campaign, we are **using several of the most important classification techniques**. We will manage key evaluation aspects of a classification as **recall, precision, false positive, etc...** to decide which are the best potential customers. \n"
      ]
    },
    {
      "cell_type": "markdown",
      "metadata": {
        "id": "1hxQ0QtwKLhK"
      },
      "source": [
        "## 0.1 Dataset"
      ]
    },
    {
      "cell_type": "markdown",
      "metadata": {
        "id": "uRr4nn5-KLhK"
      },
      "source": [
        "In this practice we are using a new dataset named `market_dt.csv`. This file contains information of **IoT market**, i.e. companies that could be interested to buy IoT products or they have already. In particular, the detailed information for each customer is:\n",
        "- *City*: Name of the city where the company is located\n",
        "- *Customer_Flag*: It is a flag that is 1 for current customers and 0 for non-customers\n",
        "- *Revenue*: The annual incomes of the company\n",
        "- *Sector*: It's an integer that identifies the sector of the company's activity\n",
        "- *CNT_EMPLOYEE*: Number of employees of the company\n",
        "- *CNT_CB_DENSITY*: Number of companies close\n",
        "- *CNT_CB_MOB_DENSITY*: Number of companies with mobile services\n",
        "- *CNT_CB_FN_DENSITY*: Number of companies with fixed services\n",
        "- *Legal_Form_Code*: It's an integer that identifies the legal type of the company: big, small or medium company\n",
        "- *Mobile potential*: It's an estimation of the total annual expense that a company can do in telco services, including IoT"
      ]
    },
    {
      "cell_type": "markdown",
      "metadata": {
        "id": "6U4Sxn_kKLhL"
      },
      "source": [
        "## 0.2. Imports"
      ]
    },
    {
      "cell_type": "code",
      "execution_count": 1,
      "metadata": {
        "id": "t4bx2UI5KLhM"
      },
      "outputs": [],
      "source": [
        "import pandas as pd\n",
        "import numpy as np\n",
        "import matplotlib.pyplot as plt\n",
        "from matplotlib import pyplot\n",
        "import matplotlib.cm as cm\n",
        "import seaborn as sns\n",
        "from scipy.stats import iqr\n",
        "from scipy.stats import chi2_contingency\n",
        "from sklearn.preprocessing import StandardScaler\n",
        "from sklearn.preprocessing import Normalizer\n",
        "from sklearn.preprocessing import MinMaxScaler\n",
        "from sklearn.preprocessing import LabelEncoder\n",
        "from sklearn.model_selection import train_test_split\n",
        "from sklearn.linear_model import SGDClassifier\n",
        "from sklearn.svm import SVC\n",
        "from sklearn.model_selection import train_test_split\n",
        "from sklearn.metrics import accuracy_score, auc, roc_curve, classification_report, confusion_matrix, precision_score, recall_score, precision_recall_curve\n",
        "from sklearn.tree import DecisionTreeClassifier\n",
        "from sklearn.ensemble import RandomForestClassifier, GradientBoostingClassifier, VotingClassifier, AdaBoostClassifier \n",
        "from sklearn.model_selection import KFold\n",
        "from sklearn.model_selection import cross_val_score\n",
        "from sklearn.model_selection import StratifiedKFold"
      ]
    },
    {
      "cell_type": "markdown",
      "metadata": {
        "id": "o7OfXFAoKLhP"
      },
      "source": [
        "# 1. Data understanding and preparation"
      ]
    },
    {
      "cell_type": "markdown",
      "metadata": {
        "id": "T0GEXTMZKLhQ"
      },
      "source": [
        "The first stage in any Machine Learning project is to have a clear understanding of the dataset from a statistical point of view but also from the perspective of the value of their variables to solve the use case or problem. To achieve this goal we need to \"clean\" and \"transform\" the data. All this process is known as **Data Wrangling**. In particular, the whole data wrangling process implies:\n",
        "- Define and apply an strategy for nulls and coding for categorical variables\n",
        "- Analyze the variables distribution and correlation between them\n",
        "- Remove outliers\n",
        "- etc....\n"
      ]
    },
    {
      "cell_type": "markdown",
      "metadata": {
        "id": "tzaVBJ98KLhQ"
      },
      "source": [
        "Let's open the csv with separator \";\" and assign to a dataframe variable (use read_csv from Pandas library). Let's see the top 5 elements."
      ]
    },
    {
      "cell_type": "code",
      "execution_count": 2,
      "metadata": {
        "id": "t7w8v94aKLhR",
        "colab": {
          "base_uri": "https://localhost:8080/",
          "height": 206
        },
        "outputId": "31f40186-22c7-47b2-d08a-2d3242d15425"
      },
      "outputs": [
        {
          "output_type": "execute_result",
          "data": {
            "text/plain": [
              "        City  Customer_Flag     Revenue  Sector  Legal_Form_Code  \\\n",
              "0     Bremen              0  21339309.0    26.0             14.0   \n",
              "1  Steinfurt              0         NaN    74.0              4.0   \n",
              "2  Magdeburg              0         NaN    83.0             28.0   \n",
              "3    Leipzig              0         NaN    61.0             28.0   \n",
              "4       Tamm              0         NaN    74.0              4.0   \n",
              "\n",
              "   CNT_EMPLOYEE  CNT_CB_DENSITY  CNT_CB_MOB_DENSITY  CNT_CB_FN_DENSITY  \\\n",
              "0            28           161.0               154.0               10.0   \n",
              "1            52            41.0                41.0                1.0   \n",
              "2            29           188.0               187.0                6.0   \n",
              "3            13           597.0               594.0               21.0   \n",
              "4            40           336.0               334.0               10.0   \n",
              "\n",
              "   Mobile_potential  \n",
              "0       2505.609457  \n",
              "1       2714.197904  \n",
              "2       2245.828787  \n",
              "3       2163.784785  \n",
              "4       2338.611264  "
            ],
            "text/html": [
              "\n",
              "  <div id=\"df-785c23c9-a321-451c-9db3-72fee68f5510\">\n",
              "    <div class=\"colab-df-container\">\n",
              "      <div>\n",
              "<style scoped>\n",
              "    .dataframe tbody tr th:only-of-type {\n",
              "        vertical-align: middle;\n",
              "    }\n",
              "\n",
              "    .dataframe tbody tr th {\n",
              "        vertical-align: top;\n",
              "    }\n",
              "\n",
              "    .dataframe thead th {\n",
              "        text-align: right;\n",
              "    }\n",
              "</style>\n",
              "<table border=\"1\" class=\"dataframe\">\n",
              "  <thead>\n",
              "    <tr style=\"text-align: right;\">\n",
              "      <th></th>\n",
              "      <th>City</th>\n",
              "      <th>Customer_Flag</th>\n",
              "      <th>Revenue</th>\n",
              "      <th>Sector</th>\n",
              "      <th>Legal_Form_Code</th>\n",
              "      <th>CNT_EMPLOYEE</th>\n",
              "      <th>CNT_CB_DENSITY</th>\n",
              "      <th>CNT_CB_MOB_DENSITY</th>\n",
              "      <th>CNT_CB_FN_DENSITY</th>\n",
              "      <th>Mobile_potential</th>\n",
              "    </tr>\n",
              "  </thead>\n",
              "  <tbody>\n",
              "    <tr>\n",
              "      <th>0</th>\n",
              "      <td>Bremen</td>\n",
              "      <td>0</td>\n",
              "      <td>21339309.0</td>\n",
              "      <td>26.0</td>\n",
              "      <td>14.0</td>\n",
              "      <td>28</td>\n",
              "      <td>161.0</td>\n",
              "      <td>154.0</td>\n",
              "      <td>10.0</td>\n",
              "      <td>2505.609457</td>\n",
              "    </tr>\n",
              "    <tr>\n",
              "      <th>1</th>\n",
              "      <td>Steinfurt</td>\n",
              "      <td>0</td>\n",
              "      <td>NaN</td>\n",
              "      <td>74.0</td>\n",
              "      <td>4.0</td>\n",
              "      <td>52</td>\n",
              "      <td>41.0</td>\n",
              "      <td>41.0</td>\n",
              "      <td>1.0</td>\n",
              "      <td>2714.197904</td>\n",
              "    </tr>\n",
              "    <tr>\n",
              "      <th>2</th>\n",
              "      <td>Magdeburg</td>\n",
              "      <td>0</td>\n",
              "      <td>NaN</td>\n",
              "      <td>83.0</td>\n",
              "      <td>28.0</td>\n",
              "      <td>29</td>\n",
              "      <td>188.0</td>\n",
              "      <td>187.0</td>\n",
              "      <td>6.0</td>\n",
              "      <td>2245.828787</td>\n",
              "    </tr>\n",
              "    <tr>\n",
              "      <th>3</th>\n",
              "      <td>Leipzig</td>\n",
              "      <td>0</td>\n",
              "      <td>NaN</td>\n",
              "      <td>61.0</td>\n",
              "      <td>28.0</td>\n",
              "      <td>13</td>\n",
              "      <td>597.0</td>\n",
              "      <td>594.0</td>\n",
              "      <td>21.0</td>\n",
              "      <td>2163.784785</td>\n",
              "    </tr>\n",
              "    <tr>\n",
              "      <th>4</th>\n",
              "      <td>Tamm</td>\n",
              "      <td>0</td>\n",
              "      <td>NaN</td>\n",
              "      <td>74.0</td>\n",
              "      <td>4.0</td>\n",
              "      <td>40</td>\n",
              "      <td>336.0</td>\n",
              "      <td>334.0</td>\n",
              "      <td>10.0</td>\n",
              "      <td>2338.611264</td>\n",
              "    </tr>\n",
              "  </tbody>\n",
              "</table>\n",
              "</div>\n",
              "      <button class=\"colab-df-convert\" onclick=\"convertToInteractive('df-785c23c9-a321-451c-9db3-72fee68f5510')\"\n",
              "              title=\"Convert this dataframe to an interactive table.\"\n",
              "              style=\"display:none;\">\n",
              "        \n",
              "  <svg xmlns=\"http://www.w3.org/2000/svg\" height=\"24px\"viewBox=\"0 0 24 24\"\n",
              "       width=\"24px\">\n",
              "    <path d=\"M0 0h24v24H0V0z\" fill=\"none\"/>\n",
              "    <path d=\"M18.56 5.44l.94 2.06.94-2.06 2.06-.94-2.06-.94-.94-2.06-.94 2.06-2.06.94zm-11 1L8.5 8.5l.94-2.06 2.06-.94-2.06-.94L8.5 2.5l-.94 2.06-2.06.94zm10 10l.94 2.06.94-2.06 2.06-.94-2.06-.94-.94-2.06-.94 2.06-2.06.94z\"/><path d=\"M17.41 7.96l-1.37-1.37c-.4-.4-.92-.59-1.43-.59-.52 0-1.04.2-1.43.59L10.3 9.45l-7.72 7.72c-.78.78-.78 2.05 0 2.83L4 21.41c.39.39.9.59 1.41.59.51 0 1.02-.2 1.41-.59l7.78-7.78 2.81-2.81c.8-.78.8-2.07 0-2.86zM5.41 20L4 18.59l7.72-7.72 1.47 1.35L5.41 20z\"/>\n",
              "  </svg>\n",
              "      </button>\n",
              "      \n",
              "  <style>\n",
              "    .colab-df-container {\n",
              "      display:flex;\n",
              "      flex-wrap:wrap;\n",
              "      gap: 12px;\n",
              "    }\n",
              "\n",
              "    .colab-df-convert {\n",
              "      background-color: #E8F0FE;\n",
              "      border: none;\n",
              "      border-radius: 50%;\n",
              "      cursor: pointer;\n",
              "      display: none;\n",
              "      fill: #1967D2;\n",
              "      height: 32px;\n",
              "      padding: 0 0 0 0;\n",
              "      width: 32px;\n",
              "    }\n",
              "\n",
              "    .colab-df-convert:hover {\n",
              "      background-color: #E2EBFA;\n",
              "      box-shadow: 0px 1px 2px rgba(60, 64, 67, 0.3), 0px 1px 3px 1px rgba(60, 64, 67, 0.15);\n",
              "      fill: #174EA6;\n",
              "    }\n",
              "\n",
              "    [theme=dark] .colab-df-convert {\n",
              "      background-color: #3B4455;\n",
              "      fill: #D2E3FC;\n",
              "    }\n",
              "\n",
              "    [theme=dark] .colab-df-convert:hover {\n",
              "      background-color: #434B5C;\n",
              "      box-shadow: 0px 1px 3px 1px rgba(0, 0, 0, 0.15);\n",
              "      filter: drop-shadow(0px 1px 2px rgba(0, 0, 0, 0.3));\n",
              "      fill: #FFFFFF;\n",
              "    }\n",
              "  </style>\n",
              "\n",
              "      <script>\n",
              "        const buttonEl =\n",
              "          document.querySelector('#df-785c23c9-a321-451c-9db3-72fee68f5510 button.colab-df-convert');\n",
              "        buttonEl.style.display =\n",
              "          google.colab.kernel.accessAllowed ? 'block' : 'none';\n",
              "\n",
              "        async function convertToInteractive(key) {\n",
              "          const element = document.querySelector('#df-785c23c9-a321-451c-9db3-72fee68f5510');\n",
              "          const dataTable =\n",
              "            await google.colab.kernel.invokeFunction('convertToInteractive',\n",
              "                                                     [key], {});\n",
              "          if (!dataTable) return;\n",
              "\n",
              "          const docLinkHtml = 'Like what you see? Visit the ' +\n",
              "            '<a target=\"_blank\" href=https://colab.research.google.com/notebooks/data_table.ipynb>data table notebook</a>'\n",
              "            + ' to learn more about interactive tables.';\n",
              "          element.innerHTML = '';\n",
              "          dataTable['output_type'] = 'display_data';\n",
              "          await google.colab.output.renderOutput(dataTable, element);\n",
              "          const docLink = document.createElement('div');\n",
              "          docLink.innerHTML = docLinkHtml;\n",
              "          element.appendChild(docLink);\n",
              "        }\n",
              "      </script>\n",
              "    </div>\n",
              "  </div>\n",
              "  "
            ]
          },
          "metadata": {},
          "execution_count": 2
        }
      ],
      "source": [
        "market_dt = pd.read_csv('https://raw.githubusercontent.com/mariomunooz/MACHINE_LEARNING/main/market_dt.csv', usecols={'City', 'Customer_Flag', 'Revenue', 'Sector', 'CNT_EMPLOYEE',\n",
        "                                                 'CNT_CB_DENSITY', 'CNT_CB_MOB_DENSITY', 'CNT_CB_FN_DENSITY',\n",
        "                                                 'Legal_Form_Code','Mobile_potential'}, sep=\";\")\n",
        "market_dt.head(5)"
      ]
    },
    {
      "cell_type": "markdown",
      "metadata": {
        "id": "osFK9XOAKLhV"
      },
      "source": [
        "[**EX1**] [**REPORT**] Let's identify the type of the variables (integer, float, chart...) and the size of the dataset and the file. Which are the variable with more nulls? And with no nulls? Why 'City' variables is considered as object type?\n",
        "\n",
        "Tip: [.info()](https://www.geeksforgeeks.org/python-pandas-dataframe-info/) is a function that reports the main characteristics of a dataframe."
      ]
    },
    {
      "cell_type": "markdown",
      "metadata": {
        "id": "rnjxSOlfKLhZ"
      },
      "source": [
        "Once we have the first contact with the dataset, next step is to decide the strategy to apply to **nulls** values. There are several options as removing the rows with any **null**, assigning a constant value (e.g. median or mean value), etc.... In our case, we are removing the rows with **null** in any of the values."
      ]
    },
    {
      "cell_type": "code",
      "source": [
        "market_dt.info()"
      ],
      "metadata": {
        "id": "6bBJbN0d_9ab",
        "colab": {
          "base_uri": "https://localhost:8080/"
        },
        "outputId": "fe60fd8b-a3b8-43de-95a1-515f60d1f3e1"
      },
      "execution_count": 3,
      "outputs": [
        {
          "output_type": "stream",
          "name": "stdout",
          "text": [
            "<class 'pandas.core.frame.DataFrame'>\n",
            "RangeIndex: 13335 entries, 0 to 13334\n",
            "Data columns (total 10 columns):\n",
            " #   Column              Non-Null Count  Dtype  \n",
            "---  ------              --------------  -----  \n",
            " 0   City                13335 non-null  object \n",
            " 1   Customer_Flag       13335 non-null  int64  \n",
            " 2   Revenue             8589 non-null   float64\n",
            " 3   Sector              13235 non-null  float64\n",
            " 4   Legal_Form_Code     13229 non-null  float64\n",
            " 5   CNT_EMPLOYEE        13335 non-null  int64  \n",
            " 6   CNT_CB_DENSITY      10265 non-null  float64\n",
            " 7   CNT_CB_MOB_DENSITY  10265 non-null  float64\n",
            " 8   CNT_CB_FN_DENSITY   10265 non-null  float64\n",
            " 9   Mobile_potential    13335 non-null  float64\n",
            "dtypes: float64(7), int64(2), object(1)\n",
            "memory usage: 1.0+ MB\n"
          ]
        }
      ]
    },
    {
      "cell_type": "markdown",
      "source": [
        "<font color='green'>EXPLANATION:</font>\n",
        "\n",
        "\n",
        "\n"
      ],
      "metadata": {
        "id": "KGcbmDGXBCAu"
      }
    },
    {
      "cell_type": "markdown",
      "metadata": {
        "id": "j6WN5zKGKLhZ"
      },
      "source": [
        "[**EX2**] [**CODE**] Eliminate those rows which has nulls in any variable. Let's check that there is no nulls in any variable. Which is the size of the resulting dataset? "
      ]
    },
    {
      "cell_type": "markdown",
      "metadata": {
        "id": "jMAZKlkpKLhf"
      },
      "source": [
        "Your output should look like this:"
      ]
    },
    {
      "cell_type": "code",
      "source": [
        "market_dt = market_dt.dropna(axis=0)\n",
        "market_dt = market_dt.reset_index(drop=True)\n",
        "market_dt.info()"
      ],
      "metadata": {
        "id": "trkSwZFMAKCF",
        "colab": {
          "base_uri": "https://localhost:8080/"
        },
        "outputId": "c36745b9-d842-41ad-aabb-6ca21322a7b7"
      },
      "execution_count": 4,
      "outputs": [
        {
          "output_type": "stream",
          "name": "stdout",
          "text": [
            "<class 'pandas.core.frame.DataFrame'>\n",
            "RangeIndex: 6987 entries, 0 to 6986\n",
            "Data columns (total 10 columns):\n",
            " #   Column              Non-Null Count  Dtype  \n",
            "---  ------              --------------  -----  \n",
            " 0   City                6987 non-null   object \n",
            " 1   Customer_Flag       6987 non-null   int64  \n",
            " 2   Revenue             6987 non-null   float64\n",
            " 3   Sector              6987 non-null   float64\n",
            " 4   Legal_Form_Code     6987 non-null   float64\n",
            " 5   CNT_EMPLOYEE        6987 non-null   int64  \n",
            " 6   CNT_CB_DENSITY      6987 non-null   float64\n",
            " 7   CNT_CB_MOB_DENSITY  6987 non-null   float64\n",
            " 8   CNT_CB_FN_DENSITY   6987 non-null   float64\n",
            " 9   Mobile_potential    6987 non-null   float64\n",
            "dtypes: float64(7), int64(2), object(1)\n",
            "memory usage: 546.0+ KB\n"
          ]
        }
      ]
    },
    {
      "cell_type": "markdown",
      "source": [
        "<font color='green'>EXPLANATION:</font> The size of the resulting dataset is 10 columns (features) of 6987 rows (data points)"
      ],
      "metadata": {
        "id": "pb26LifLBjtx"
      }
    },
    {
      "cell_type": "code",
      "execution_count": 5,
      "metadata": {
        "id": "H2dXqQbfKLhf",
        "colab": {
          "base_uri": "https://localhost:8080/"
        },
        "outputId": "fb392b0c-c7dd-495b-d1f3-c7e8cb921e86"
      },
      "outputs": [
        {
          "output_type": "stream",
          "name": "stdout",
          "text": [
            "<class 'pandas.core.frame.DataFrame'>\n",
            "RangeIndex: 6987 entries, 0 to 6986\n",
            "Data columns (total 10 columns):\n",
            " #   Column              Non-Null Count  Dtype  \n",
            "---  ------              --------------  -----  \n",
            " 0   City                6987 non-null   object \n",
            " 1   Customer_Flag       6987 non-null   int64  \n",
            " 2   Revenue             6987 non-null   float64\n",
            " 3   Sector              6987 non-null   float64\n",
            " 4   Legal_Form_Code     6987 non-null   float64\n",
            " 5   CNT_EMPLOYEE        6987 non-null   int64  \n",
            " 6   CNT_CB_DENSITY      6987 non-null   float64\n",
            " 7   CNT_CB_MOB_DENSITY  6987 non-null   float64\n",
            " 8   CNT_CB_FN_DENSITY   6987 non-null   float64\n",
            " 9   Mobile_potential    6987 non-null   float64\n",
            "dtypes: float64(7), int64(2), object(1)\n",
            "memory usage: 546.0+ KB\n"
          ]
        }
      ],
      "source": [
        "market_dt.info()"
      ]
    },
    {
      "cell_type": "markdown",
      "metadata": {
        "id": "uR4UCXz6KLhj"
      },
      "source": [
        "In Machine Learning, it is key to analyze the variables from a statistical point of view: knowing the distribution of each variable, their mean and median are key to identify any transformation to apply before training the model. \n",
        "Furthermore, due to we are training a classifier (in our case, to classify between ***customers*** and ***non customers***), this analysis should be done for both classes separetly."
      ]
    },
    {
      "cell_type": "markdown",
      "metadata": {
        "id": "L2r-IQ7OKLhj"
      },
      "source": [
        "[**EX3**] [**REPORT**] Create a `customer_dt`and `noncustomer_dt`datasets based on the `Customer_Flag`variable (`Customer_Flag`=1 for **customers** and 0 for **noncustomers**). Build a boxplot for the `Revenue`, `CNT_EMPLOYEE`, `Mobile_potential` and `CNT_CB_Density` numeric variables for both datasets. Which are the main differences between `customer_dt`and `noncustomer_dt` datasets comparing these variables. Which is the dataset with `CNT_EMPLOYEE` higher? Which datasets have more outliers in `Revenues`? Which is the Q1, median (=Q2) and Q3 for `Revenues`and `Mobile_potential`?\n",
        "\n",
        "\n",
        "Tip: you may have to use the [boxplot](https://matplotlib.org/3.1.1/api/_as_gen/matplotlib.pyplot.boxplot.html) function."
      ]
    },
    {
      "cell_type": "code",
      "source": [
        "# SPLIT DATAFRAME BETWEEN CUSTOMERS AND NONCUSTOMERS\n",
        "\n",
        "customer_filter = market_dt[\"Customer_Flag\"] == 1\n",
        "non_customer_filter = market_dt[\"Customer_Flag\"] == 0\n",
        "\n",
        "customer_dt = market_dt.loc[customer_filter]\n",
        "noncustomer_dt = market_dt.loc[non_customer_filter]\n",
        "\n",
        "customer_dt = customer_dt.reset_index(drop=True)\n",
        "noncustomer_dt = noncustomer_dt.reset_index(drop=True)"
      ],
      "metadata": {
        "id": "23tpuJveCNP4"
      },
      "execution_count": 6,
      "outputs": []
    },
    {
      "cell_type": "code",
      "source": [
        "customer_dt.head()"
      ],
      "metadata": {
        "id": "PDW09Ce7I2CY",
        "colab": {
          "base_uri": "https://localhost:8080/",
          "height": 206
        },
        "outputId": "51787eed-e872-4864-bed2-2f18de25ce74"
      },
      "execution_count": 7,
      "outputs": [
        {
          "output_type": "execute_result",
          "data": {
            "text/plain": [
              "        City  Customer_Flag     Revenue  Sector  Legal_Form_Code  \\\n",
              "0       Haar              1   4000000.0    42.0             14.0   \n",
              "1    Greding              1  11780000.0    74.0              4.0   \n",
              "2      Dörth              1   2050000.0    43.0             14.0   \n",
              "3  Frankfurt              1    853500.0    63.0             14.0   \n",
              "4  Benningen              1  10680000.0    74.0              4.0   \n",
              "\n",
              "   CNT_EMPLOYEE  CNT_CB_DENSITY  CNT_CB_MOB_DENSITY  CNT_CB_FN_DENSITY  \\\n",
              "0            17           891.0               867.0               62.0   \n",
              "1            53             7.0                 7.0                0.0   \n",
              "2            16            30.0                30.0                1.0   \n",
              "3            14           870.0               842.0               77.0   \n",
              "4            17           319.0               317.0               10.0   \n",
              "\n",
              "   Mobile_potential  \n",
              "0       1846.104451  \n",
              "1       2083.941040  \n",
              "2       2209.827333  \n",
              "3       2401.464693  \n",
              "4       2579.765989  "
            ],
            "text/html": [
              "\n",
              "  <div id=\"df-a19b49e5-480a-47fb-9ca0-1263f8fdd3a0\">\n",
              "    <div class=\"colab-df-container\">\n",
              "      <div>\n",
              "<style scoped>\n",
              "    .dataframe tbody tr th:only-of-type {\n",
              "        vertical-align: middle;\n",
              "    }\n",
              "\n",
              "    .dataframe tbody tr th {\n",
              "        vertical-align: top;\n",
              "    }\n",
              "\n",
              "    .dataframe thead th {\n",
              "        text-align: right;\n",
              "    }\n",
              "</style>\n",
              "<table border=\"1\" class=\"dataframe\">\n",
              "  <thead>\n",
              "    <tr style=\"text-align: right;\">\n",
              "      <th></th>\n",
              "      <th>City</th>\n",
              "      <th>Customer_Flag</th>\n",
              "      <th>Revenue</th>\n",
              "      <th>Sector</th>\n",
              "      <th>Legal_Form_Code</th>\n",
              "      <th>CNT_EMPLOYEE</th>\n",
              "      <th>CNT_CB_DENSITY</th>\n",
              "      <th>CNT_CB_MOB_DENSITY</th>\n",
              "      <th>CNT_CB_FN_DENSITY</th>\n",
              "      <th>Mobile_potential</th>\n",
              "    </tr>\n",
              "  </thead>\n",
              "  <tbody>\n",
              "    <tr>\n",
              "      <th>0</th>\n",
              "      <td>Haar</td>\n",
              "      <td>1</td>\n",
              "      <td>4000000.0</td>\n",
              "      <td>42.0</td>\n",
              "      <td>14.0</td>\n",
              "      <td>17</td>\n",
              "      <td>891.0</td>\n",
              "      <td>867.0</td>\n",
              "      <td>62.0</td>\n",
              "      <td>1846.104451</td>\n",
              "    </tr>\n",
              "    <tr>\n",
              "      <th>1</th>\n",
              "      <td>Greding</td>\n",
              "      <td>1</td>\n",
              "      <td>11780000.0</td>\n",
              "      <td>74.0</td>\n",
              "      <td>4.0</td>\n",
              "      <td>53</td>\n",
              "      <td>7.0</td>\n",
              "      <td>7.0</td>\n",
              "      <td>0.0</td>\n",
              "      <td>2083.941040</td>\n",
              "    </tr>\n",
              "    <tr>\n",
              "      <th>2</th>\n",
              "      <td>Dörth</td>\n",
              "      <td>1</td>\n",
              "      <td>2050000.0</td>\n",
              "      <td>43.0</td>\n",
              "      <td>14.0</td>\n",
              "      <td>16</td>\n",
              "      <td>30.0</td>\n",
              "      <td>30.0</td>\n",
              "      <td>1.0</td>\n",
              "      <td>2209.827333</td>\n",
              "    </tr>\n",
              "    <tr>\n",
              "      <th>3</th>\n",
              "      <td>Frankfurt</td>\n",
              "      <td>1</td>\n",
              "      <td>853500.0</td>\n",
              "      <td>63.0</td>\n",
              "      <td>14.0</td>\n",
              "      <td>14</td>\n",
              "      <td>870.0</td>\n",
              "      <td>842.0</td>\n",
              "      <td>77.0</td>\n",
              "      <td>2401.464693</td>\n",
              "    </tr>\n",
              "    <tr>\n",
              "      <th>4</th>\n",
              "      <td>Benningen</td>\n",
              "      <td>1</td>\n",
              "      <td>10680000.0</td>\n",
              "      <td>74.0</td>\n",
              "      <td>4.0</td>\n",
              "      <td>17</td>\n",
              "      <td>319.0</td>\n",
              "      <td>317.0</td>\n",
              "      <td>10.0</td>\n",
              "      <td>2579.765989</td>\n",
              "    </tr>\n",
              "  </tbody>\n",
              "</table>\n",
              "</div>\n",
              "      <button class=\"colab-df-convert\" onclick=\"convertToInteractive('df-a19b49e5-480a-47fb-9ca0-1263f8fdd3a0')\"\n",
              "              title=\"Convert this dataframe to an interactive table.\"\n",
              "              style=\"display:none;\">\n",
              "        \n",
              "  <svg xmlns=\"http://www.w3.org/2000/svg\" height=\"24px\"viewBox=\"0 0 24 24\"\n",
              "       width=\"24px\">\n",
              "    <path d=\"M0 0h24v24H0V0z\" fill=\"none\"/>\n",
              "    <path d=\"M18.56 5.44l.94 2.06.94-2.06 2.06-.94-2.06-.94-.94-2.06-.94 2.06-2.06.94zm-11 1L8.5 8.5l.94-2.06 2.06-.94-2.06-.94L8.5 2.5l-.94 2.06-2.06.94zm10 10l.94 2.06.94-2.06 2.06-.94-2.06-.94-.94-2.06-.94 2.06-2.06.94z\"/><path d=\"M17.41 7.96l-1.37-1.37c-.4-.4-.92-.59-1.43-.59-.52 0-1.04.2-1.43.59L10.3 9.45l-7.72 7.72c-.78.78-.78 2.05 0 2.83L4 21.41c.39.39.9.59 1.41.59.51 0 1.02-.2 1.41-.59l7.78-7.78 2.81-2.81c.8-.78.8-2.07 0-2.86zM5.41 20L4 18.59l7.72-7.72 1.47 1.35L5.41 20z\"/>\n",
              "  </svg>\n",
              "      </button>\n",
              "      \n",
              "  <style>\n",
              "    .colab-df-container {\n",
              "      display:flex;\n",
              "      flex-wrap:wrap;\n",
              "      gap: 12px;\n",
              "    }\n",
              "\n",
              "    .colab-df-convert {\n",
              "      background-color: #E8F0FE;\n",
              "      border: none;\n",
              "      border-radius: 50%;\n",
              "      cursor: pointer;\n",
              "      display: none;\n",
              "      fill: #1967D2;\n",
              "      height: 32px;\n",
              "      padding: 0 0 0 0;\n",
              "      width: 32px;\n",
              "    }\n",
              "\n",
              "    .colab-df-convert:hover {\n",
              "      background-color: #E2EBFA;\n",
              "      box-shadow: 0px 1px 2px rgba(60, 64, 67, 0.3), 0px 1px 3px 1px rgba(60, 64, 67, 0.15);\n",
              "      fill: #174EA6;\n",
              "    }\n",
              "\n",
              "    [theme=dark] .colab-df-convert {\n",
              "      background-color: #3B4455;\n",
              "      fill: #D2E3FC;\n",
              "    }\n",
              "\n",
              "    [theme=dark] .colab-df-convert:hover {\n",
              "      background-color: #434B5C;\n",
              "      box-shadow: 0px 1px 3px 1px rgba(0, 0, 0, 0.15);\n",
              "      filter: drop-shadow(0px 1px 2px rgba(0, 0, 0, 0.3));\n",
              "      fill: #FFFFFF;\n",
              "    }\n",
              "  </style>\n",
              "\n",
              "      <script>\n",
              "        const buttonEl =\n",
              "          document.querySelector('#df-a19b49e5-480a-47fb-9ca0-1263f8fdd3a0 button.colab-df-convert');\n",
              "        buttonEl.style.display =\n",
              "          google.colab.kernel.accessAllowed ? 'block' : 'none';\n",
              "\n",
              "        async function convertToInteractive(key) {\n",
              "          const element = document.querySelector('#df-a19b49e5-480a-47fb-9ca0-1263f8fdd3a0');\n",
              "          const dataTable =\n",
              "            await google.colab.kernel.invokeFunction('convertToInteractive',\n",
              "                                                     [key], {});\n",
              "          if (!dataTable) return;\n",
              "\n",
              "          const docLinkHtml = 'Like what you see? Visit the ' +\n",
              "            '<a target=\"_blank\" href=https://colab.research.google.com/notebooks/data_table.ipynb>data table notebook</a>'\n",
              "            + ' to learn more about interactive tables.';\n",
              "          element.innerHTML = '';\n",
              "          dataTable['output_type'] = 'display_data';\n",
              "          await google.colab.output.renderOutput(dataTable, element);\n",
              "          const docLink = document.createElement('div');\n",
              "          docLink.innerHTML = docLinkHtml;\n",
              "          element.appendChild(docLink);\n",
              "        }\n",
              "      </script>\n",
              "    </div>\n",
              "  </div>\n",
              "  "
            ]
          },
          "metadata": {},
          "execution_count": 7
        }
      ]
    },
    {
      "cell_type": "code",
      "source": [
        "noncustomer_dt.head()"
      ],
      "metadata": {
        "id": "3Ald2kw7I4jV",
        "colab": {
          "base_uri": "https://localhost:8080/",
          "height": 206
        },
        "outputId": "3cd11621-e365-48c5-af84-e9195f9b5bf1"
      },
      "execution_count": 8,
      "outputs": [
        {
          "output_type": "execute_result",
          "data": {
            "text/plain": [
              "               City  Customer_Flag      Revenue  Sector  Legal_Form_Code  \\\n",
              "0            Bremen              0   21339309.0    26.0             14.0   \n",
              "1        Düsseldorf              0    8500000.0    59.0             14.0   \n",
              "2             Halle              0    2100000.0    73.0             20.0   \n",
              "3         Stuttgart              0     630000.0    56.0             14.0   \n",
              "4  Porta Westfalica              0  149400000.0    43.0             22.0   \n",
              "\n",
              "   CNT_EMPLOYEE  CNT_CB_DENSITY  CNT_CB_MOB_DENSITY  CNT_CB_FN_DENSITY  \\\n",
              "0            28           161.0               154.0               10.0   \n",
              "1            27           869.0               857.0               59.0   \n",
              "2            37           209.0               206.0                9.0   \n",
              "3            13           749.0               727.0               51.0   \n",
              "4            48           110.0               107.0                4.0   \n",
              "\n",
              "   Mobile_potential  \n",
              "0       2505.609457  \n",
              "1       3103.670976  \n",
              "2       2108.833841  \n",
              "3       2381.708430  \n",
              "4       2772.726870  "
            ],
            "text/html": [
              "\n",
              "  <div id=\"df-23b3b162-e90f-47e4-b3a4-c3051117f178\">\n",
              "    <div class=\"colab-df-container\">\n",
              "      <div>\n",
              "<style scoped>\n",
              "    .dataframe tbody tr th:only-of-type {\n",
              "        vertical-align: middle;\n",
              "    }\n",
              "\n",
              "    .dataframe tbody tr th {\n",
              "        vertical-align: top;\n",
              "    }\n",
              "\n",
              "    .dataframe thead th {\n",
              "        text-align: right;\n",
              "    }\n",
              "</style>\n",
              "<table border=\"1\" class=\"dataframe\">\n",
              "  <thead>\n",
              "    <tr style=\"text-align: right;\">\n",
              "      <th></th>\n",
              "      <th>City</th>\n",
              "      <th>Customer_Flag</th>\n",
              "      <th>Revenue</th>\n",
              "      <th>Sector</th>\n",
              "      <th>Legal_Form_Code</th>\n",
              "      <th>CNT_EMPLOYEE</th>\n",
              "      <th>CNT_CB_DENSITY</th>\n",
              "      <th>CNT_CB_MOB_DENSITY</th>\n",
              "      <th>CNT_CB_FN_DENSITY</th>\n",
              "      <th>Mobile_potential</th>\n",
              "    </tr>\n",
              "  </thead>\n",
              "  <tbody>\n",
              "    <tr>\n",
              "      <th>0</th>\n",
              "      <td>Bremen</td>\n",
              "      <td>0</td>\n",
              "      <td>21339309.0</td>\n",
              "      <td>26.0</td>\n",
              "      <td>14.0</td>\n",
              "      <td>28</td>\n",
              "      <td>161.0</td>\n",
              "      <td>154.0</td>\n",
              "      <td>10.0</td>\n",
              "      <td>2505.609457</td>\n",
              "    </tr>\n",
              "    <tr>\n",
              "      <th>1</th>\n",
              "      <td>Düsseldorf</td>\n",
              "      <td>0</td>\n",
              "      <td>8500000.0</td>\n",
              "      <td>59.0</td>\n",
              "      <td>14.0</td>\n",
              "      <td>27</td>\n",
              "      <td>869.0</td>\n",
              "      <td>857.0</td>\n",
              "      <td>59.0</td>\n",
              "      <td>3103.670976</td>\n",
              "    </tr>\n",
              "    <tr>\n",
              "      <th>2</th>\n",
              "      <td>Halle</td>\n",
              "      <td>0</td>\n",
              "      <td>2100000.0</td>\n",
              "      <td>73.0</td>\n",
              "      <td>20.0</td>\n",
              "      <td>37</td>\n",
              "      <td>209.0</td>\n",
              "      <td>206.0</td>\n",
              "      <td>9.0</td>\n",
              "      <td>2108.833841</td>\n",
              "    </tr>\n",
              "    <tr>\n",
              "      <th>3</th>\n",
              "      <td>Stuttgart</td>\n",
              "      <td>0</td>\n",
              "      <td>630000.0</td>\n",
              "      <td>56.0</td>\n",
              "      <td>14.0</td>\n",
              "      <td>13</td>\n",
              "      <td>749.0</td>\n",
              "      <td>727.0</td>\n",
              "      <td>51.0</td>\n",
              "      <td>2381.708430</td>\n",
              "    </tr>\n",
              "    <tr>\n",
              "      <th>4</th>\n",
              "      <td>Porta Westfalica</td>\n",
              "      <td>0</td>\n",
              "      <td>149400000.0</td>\n",
              "      <td>43.0</td>\n",
              "      <td>22.0</td>\n",
              "      <td>48</td>\n",
              "      <td>110.0</td>\n",
              "      <td>107.0</td>\n",
              "      <td>4.0</td>\n",
              "      <td>2772.726870</td>\n",
              "    </tr>\n",
              "  </tbody>\n",
              "</table>\n",
              "</div>\n",
              "      <button class=\"colab-df-convert\" onclick=\"convertToInteractive('df-23b3b162-e90f-47e4-b3a4-c3051117f178')\"\n",
              "              title=\"Convert this dataframe to an interactive table.\"\n",
              "              style=\"display:none;\">\n",
              "        \n",
              "  <svg xmlns=\"http://www.w3.org/2000/svg\" height=\"24px\"viewBox=\"0 0 24 24\"\n",
              "       width=\"24px\">\n",
              "    <path d=\"M0 0h24v24H0V0z\" fill=\"none\"/>\n",
              "    <path d=\"M18.56 5.44l.94 2.06.94-2.06 2.06-.94-2.06-.94-.94-2.06-.94 2.06-2.06.94zm-11 1L8.5 8.5l.94-2.06 2.06-.94-2.06-.94L8.5 2.5l-.94 2.06-2.06.94zm10 10l.94 2.06.94-2.06 2.06-.94-2.06-.94-.94-2.06-.94 2.06-2.06.94z\"/><path d=\"M17.41 7.96l-1.37-1.37c-.4-.4-.92-.59-1.43-.59-.52 0-1.04.2-1.43.59L10.3 9.45l-7.72 7.72c-.78.78-.78 2.05 0 2.83L4 21.41c.39.39.9.59 1.41.59.51 0 1.02-.2 1.41-.59l7.78-7.78 2.81-2.81c.8-.78.8-2.07 0-2.86zM5.41 20L4 18.59l7.72-7.72 1.47 1.35L5.41 20z\"/>\n",
              "  </svg>\n",
              "      </button>\n",
              "      \n",
              "  <style>\n",
              "    .colab-df-container {\n",
              "      display:flex;\n",
              "      flex-wrap:wrap;\n",
              "      gap: 12px;\n",
              "    }\n",
              "\n",
              "    .colab-df-convert {\n",
              "      background-color: #E8F0FE;\n",
              "      border: none;\n",
              "      border-radius: 50%;\n",
              "      cursor: pointer;\n",
              "      display: none;\n",
              "      fill: #1967D2;\n",
              "      height: 32px;\n",
              "      padding: 0 0 0 0;\n",
              "      width: 32px;\n",
              "    }\n",
              "\n",
              "    .colab-df-convert:hover {\n",
              "      background-color: #E2EBFA;\n",
              "      box-shadow: 0px 1px 2px rgba(60, 64, 67, 0.3), 0px 1px 3px 1px rgba(60, 64, 67, 0.15);\n",
              "      fill: #174EA6;\n",
              "    }\n",
              "\n",
              "    [theme=dark] .colab-df-convert {\n",
              "      background-color: #3B4455;\n",
              "      fill: #D2E3FC;\n",
              "    }\n",
              "\n",
              "    [theme=dark] .colab-df-convert:hover {\n",
              "      background-color: #434B5C;\n",
              "      box-shadow: 0px 1px 3px 1px rgba(0, 0, 0, 0.15);\n",
              "      filter: drop-shadow(0px 1px 2px rgba(0, 0, 0, 0.3));\n",
              "      fill: #FFFFFF;\n",
              "    }\n",
              "  </style>\n",
              "\n",
              "      <script>\n",
              "        const buttonEl =\n",
              "          document.querySelector('#df-23b3b162-e90f-47e4-b3a4-c3051117f178 button.colab-df-convert');\n",
              "        buttonEl.style.display =\n",
              "          google.colab.kernel.accessAllowed ? 'block' : 'none';\n",
              "\n",
              "        async function convertToInteractive(key) {\n",
              "          const element = document.querySelector('#df-23b3b162-e90f-47e4-b3a4-c3051117f178');\n",
              "          const dataTable =\n",
              "            await google.colab.kernel.invokeFunction('convertToInteractive',\n",
              "                                                     [key], {});\n",
              "          if (!dataTable) return;\n",
              "\n",
              "          const docLinkHtml = 'Like what you see? Visit the ' +\n",
              "            '<a target=\"_blank\" href=https://colab.research.google.com/notebooks/data_table.ipynb>data table notebook</a>'\n",
              "            + ' to learn more about interactive tables.';\n",
              "          element.innerHTML = '';\n",
              "          dataTable['output_type'] = 'display_data';\n",
              "          await google.colab.output.renderOutput(dataTable, element);\n",
              "          const docLink = document.createElement('div');\n",
              "          docLink.innerHTML = docLinkHtml;\n",
              "          element.appendChild(docLink);\n",
              "        }\n",
              "      </script>\n",
              "    </div>\n",
              "  </div>\n",
              "  "
            ]
          },
          "metadata": {},
          "execution_count": 8
        }
      ]
    },
    {
      "cell_type": "code",
      "source": [
        "def get_iqr(stats_df):\n",
        "  first_q = dict(stats_df.iloc[4])\n",
        "  third_q = dict(stats_df.iloc[6])\n",
        "  iqr = third_q\n",
        "  iqr['Measure'] = 'iqr'\n",
        "\n",
        "  for i in first_q.keys():\n",
        "    if i != 'Measure':\n",
        "      iqr[i] = third_q[i] - first_q[i]\n",
        "  \n",
        "  stats_df = stats_df.append(iqr, ignore_index=True) \n",
        "  \n",
        "  return stats_df\n",
        "\n",
        "\n",
        "def compute_outliers(dataset, stats_df):\n",
        "\n",
        "  Q1 = dataset.quantile(0.25)\n",
        "  Q3 = dataset.quantile(0.75)\n",
        "\n",
        "  IQR = Q3 - Q1\n",
        "\n",
        "  range = [1.5, 5]\n",
        "  out = []\n",
        "  for r in range:\n",
        "\n",
        "    outliers = ((dataset < (Q1 - r * IQR)) | (dataset > (Q3 + r * IQR))).sum()\n",
        "    outliers = dict(outliers)\n",
        "    outliers['Measure'] = f'outliers ({r}*IQR)'\n",
        "    outliers = {key: outliers[key] for key in stats_df.keys()}\n",
        "    out.append(outliers)\n",
        "\n",
        "  stats_df = stats_df.append(out, ignore_index=True) \n",
        "  return stats_df\n",
        "  \n",
        "def compute_iqr_and_outliers(dataset, stats_df):\n",
        "\n",
        "  stats_df = get_iqr(stats_df)\n",
        "  stats_df = compute_outliers(dataset, stats_df)\n",
        "  return stats_df\n",
        "\n",
        "def compute_stats(dataset, variables):\n",
        "  \n",
        "  df = dataset[variables[0]].describe()\n",
        "  stats = pd.DataFrame()\n",
        "  stats.index = df.keys()\n",
        "  stats['Measure'] = stats.index\n",
        "  for var in variables:\n",
        "    \n",
        "    stats[var] = dataset[var].describe()\n",
        "    \n",
        "    \n",
        "  \n",
        "  stats = stats.reset_index(drop=True)\n",
        "\n",
        "  stats = compute_iqr_and_outliers(dataset, stats)\n",
        "  '''stats = stats.round(2)\n",
        "  pd.options.display.float_format = '{:.2f}'.format'''\n",
        "\n",
        "  return stats"
      ],
      "metadata": {
        "id": "KVOJsh643T2l"
      },
      "execution_count": 9,
      "outputs": []
    },
    {
      "cell_type": "code",
      "source": [
        "# STATISTICAL INFO\n",
        "variables = ['Revenue', 'CNT_EMPLOYEE', 'Mobile_potential', 'CNT_CB_DENSITY']\n",
        "\n",
        "Main_stats_customer_dt = compute_stats(customer_dt, variables)\n",
        "Main_stats_non_customer_dt = compute_stats(noncustomer_dt, variables)"
      ],
      "metadata": {
        "id": "J7i7h_NFEDsl",
        "colab": {
          "base_uri": "https://localhost:8080/"
        },
        "outputId": "177a3e6e-30ef-4d34-c2d4-a0101ff0a6bd"
      },
      "execution_count": 10,
      "outputs": [
        {
          "output_type": "stream",
          "name": "stderr",
          "text": [
            "/usr/local/lib/python3.7/dist-packages/ipykernel_launcher.py:27: FutureWarning: Automatic reindexing on DataFrame vs Series comparisons is deprecated and will raise ValueError in a future version.  Do `left, right = left.align(right, axis=1, copy=False)` before e.g. `left == right`\n"
          ]
        }
      ]
    },
    {
      "cell_type": "code",
      "source": [
        "print('STATISTICAL INFO:')\n",
        "print('\\t- Customers\\n')\n",
        "Main_stats_customer_dt"
      ],
      "metadata": {
        "colab": {
          "base_uri": "https://localhost:8080/",
          "height": 446
        },
        "id": "vj8cbSRH2Jx0",
        "outputId": "427ceed2-8263-45d8-dc6b-074a9b14aa66"
      },
      "execution_count": 11,
      "outputs": [
        {
          "output_type": "stream",
          "name": "stdout",
          "text": [
            "STATISTICAL INFO:\n",
            "\t- Customers\n",
            "\n"
          ]
        },
        {
          "output_type": "execute_result",
          "data": {
            "text/plain": [
              "               Measure       Revenue  CNT_EMPLOYEE  Mobile_potential  \\\n",
              "0                count  1.111000e+03   1111.000000       1111.000000   \n",
              "1                 mean  4.145472e+06     26.064806       2486.853293   \n",
              "2                  std  8.413190e+06     11.302369        573.907880   \n",
              "3                  min  1.072500e+04     10.000000       1235.999263   \n",
              "4                  25%  1.047500e+06     17.000000       2090.696728   \n",
              "5                  50%  2.200000e+06     23.000000       2401.464693   \n",
              "6                  75%  4.195000e+06     34.000000       2826.235183   \n",
              "7                  max  1.458374e+08     55.000000       4522.690906   \n",
              "8                  iqr  3.147500e+06     17.000000        735.538454   \n",
              "9   outliers (1.5*IQR)  9.500000e+01      0.000000         19.000000   \n",
              "10    outliers (5*IQR)  2.600000e+01      0.000000          0.000000   \n",
              "\n",
              "    CNT_CB_DENSITY  \n",
              "0      1111.000000  \n",
              "1       422.532853  \n",
              "2       586.090259  \n",
              "3         2.000000  \n",
              "4        71.500000  \n",
              "5       203.000000  \n",
              "6       519.000000  \n",
              "7      4427.000000  \n",
              "8       447.500000  \n",
              "9        99.000000  \n",
              "10       20.000000  "
            ],
            "text/html": [
              "\n",
              "  <div id=\"df-5d476a5d-b9a0-4d6b-b4cf-3e9df7fd7341\">\n",
              "    <div class=\"colab-df-container\">\n",
              "      <div>\n",
              "<style scoped>\n",
              "    .dataframe tbody tr th:only-of-type {\n",
              "        vertical-align: middle;\n",
              "    }\n",
              "\n",
              "    .dataframe tbody tr th {\n",
              "        vertical-align: top;\n",
              "    }\n",
              "\n",
              "    .dataframe thead th {\n",
              "        text-align: right;\n",
              "    }\n",
              "</style>\n",
              "<table border=\"1\" class=\"dataframe\">\n",
              "  <thead>\n",
              "    <tr style=\"text-align: right;\">\n",
              "      <th></th>\n",
              "      <th>Measure</th>\n",
              "      <th>Revenue</th>\n",
              "      <th>CNT_EMPLOYEE</th>\n",
              "      <th>Mobile_potential</th>\n",
              "      <th>CNT_CB_DENSITY</th>\n",
              "    </tr>\n",
              "  </thead>\n",
              "  <tbody>\n",
              "    <tr>\n",
              "      <th>0</th>\n",
              "      <td>count</td>\n",
              "      <td>1.111000e+03</td>\n",
              "      <td>1111.000000</td>\n",
              "      <td>1111.000000</td>\n",
              "      <td>1111.000000</td>\n",
              "    </tr>\n",
              "    <tr>\n",
              "      <th>1</th>\n",
              "      <td>mean</td>\n",
              "      <td>4.145472e+06</td>\n",
              "      <td>26.064806</td>\n",
              "      <td>2486.853293</td>\n",
              "      <td>422.532853</td>\n",
              "    </tr>\n",
              "    <tr>\n",
              "      <th>2</th>\n",
              "      <td>std</td>\n",
              "      <td>8.413190e+06</td>\n",
              "      <td>11.302369</td>\n",
              "      <td>573.907880</td>\n",
              "      <td>586.090259</td>\n",
              "    </tr>\n",
              "    <tr>\n",
              "      <th>3</th>\n",
              "      <td>min</td>\n",
              "      <td>1.072500e+04</td>\n",
              "      <td>10.000000</td>\n",
              "      <td>1235.999263</td>\n",
              "      <td>2.000000</td>\n",
              "    </tr>\n",
              "    <tr>\n",
              "      <th>4</th>\n",
              "      <td>25%</td>\n",
              "      <td>1.047500e+06</td>\n",
              "      <td>17.000000</td>\n",
              "      <td>2090.696728</td>\n",
              "      <td>71.500000</td>\n",
              "    </tr>\n",
              "    <tr>\n",
              "      <th>5</th>\n",
              "      <td>50%</td>\n",
              "      <td>2.200000e+06</td>\n",
              "      <td>23.000000</td>\n",
              "      <td>2401.464693</td>\n",
              "      <td>203.000000</td>\n",
              "    </tr>\n",
              "    <tr>\n",
              "      <th>6</th>\n",
              "      <td>75%</td>\n",
              "      <td>4.195000e+06</td>\n",
              "      <td>34.000000</td>\n",
              "      <td>2826.235183</td>\n",
              "      <td>519.000000</td>\n",
              "    </tr>\n",
              "    <tr>\n",
              "      <th>7</th>\n",
              "      <td>max</td>\n",
              "      <td>1.458374e+08</td>\n",
              "      <td>55.000000</td>\n",
              "      <td>4522.690906</td>\n",
              "      <td>4427.000000</td>\n",
              "    </tr>\n",
              "    <tr>\n",
              "      <th>8</th>\n",
              "      <td>iqr</td>\n",
              "      <td>3.147500e+06</td>\n",
              "      <td>17.000000</td>\n",
              "      <td>735.538454</td>\n",
              "      <td>447.500000</td>\n",
              "    </tr>\n",
              "    <tr>\n",
              "      <th>9</th>\n",
              "      <td>outliers (1.5*IQR)</td>\n",
              "      <td>9.500000e+01</td>\n",
              "      <td>0.000000</td>\n",
              "      <td>19.000000</td>\n",
              "      <td>99.000000</td>\n",
              "    </tr>\n",
              "    <tr>\n",
              "      <th>10</th>\n",
              "      <td>outliers (5*IQR)</td>\n",
              "      <td>2.600000e+01</td>\n",
              "      <td>0.000000</td>\n",
              "      <td>0.000000</td>\n",
              "      <td>20.000000</td>\n",
              "    </tr>\n",
              "  </tbody>\n",
              "</table>\n",
              "</div>\n",
              "      <button class=\"colab-df-convert\" onclick=\"convertToInteractive('df-5d476a5d-b9a0-4d6b-b4cf-3e9df7fd7341')\"\n",
              "              title=\"Convert this dataframe to an interactive table.\"\n",
              "              style=\"display:none;\">\n",
              "        \n",
              "  <svg xmlns=\"http://www.w3.org/2000/svg\" height=\"24px\"viewBox=\"0 0 24 24\"\n",
              "       width=\"24px\">\n",
              "    <path d=\"M0 0h24v24H0V0z\" fill=\"none\"/>\n",
              "    <path d=\"M18.56 5.44l.94 2.06.94-2.06 2.06-.94-2.06-.94-.94-2.06-.94 2.06-2.06.94zm-11 1L8.5 8.5l.94-2.06 2.06-.94-2.06-.94L8.5 2.5l-.94 2.06-2.06.94zm10 10l.94 2.06.94-2.06 2.06-.94-2.06-.94-.94-2.06-.94 2.06-2.06.94z\"/><path d=\"M17.41 7.96l-1.37-1.37c-.4-.4-.92-.59-1.43-.59-.52 0-1.04.2-1.43.59L10.3 9.45l-7.72 7.72c-.78.78-.78 2.05 0 2.83L4 21.41c.39.39.9.59 1.41.59.51 0 1.02-.2 1.41-.59l7.78-7.78 2.81-2.81c.8-.78.8-2.07 0-2.86zM5.41 20L4 18.59l7.72-7.72 1.47 1.35L5.41 20z\"/>\n",
              "  </svg>\n",
              "      </button>\n",
              "      \n",
              "  <style>\n",
              "    .colab-df-container {\n",
              "      display:flex;\n",
              "      flex-wrap:wrap;\n",
              "      gap: 12px;\n",
              "    }\n",
              "\n",
              "    .colab-df-convert {\n",
              "      background-color: #E8F0FE;\n",
              "      border: none;\n",
              "      border-radius: 50%;\n",
              "      cursor: pointer;\n",
              "      display: none;\n",
              "      fill: #1967D2;\n",
              "      height: 32px;\n",
              "      padding: 0 0 0 0;\n",
              "      width: 32px;\n",
              "    }\n",
              "\n",
              "    .colab-df-convert:hover {\n",
              "      background-color: #E2EBFA;\n",
              "      box-shadow: 0px 1px 2px rgba(60, 64, 67, 0.3), 0px 1px 3px 1px rgba(60, 64, 67, 0.15);\n",
              "      fill: #174EA6;\n",
              "    }\n",
              "\n",
              "    [theme=dark] .colab-df-convert {\n",
              "      background-color: #3B4455;\n",
              "      fill: #D2E3FC;\n",
              "    }\n",
              "\n",
              "    [theme=dark] .colab-df-convert:hover {\n",
              "      background-color: #434B5C;\n",
              "      box-shadow: 0px 1px 3px 1px rgba(0, 0, 0, 0.15);\n",
              "      filter: drop-shadow(0px 1px 2px rgba(0, 0, 0, 0.3));\n",
              "      fill: #FFFFFF;\n",
              "    }\n",
              "  </style>\n",
              "\n",
              "      <script>\n",
              "        const buttonEl =\n",
              "          document.querySelector('#df-5d476a5d-b9a0-4d6b-b4cf-3e9df7fd7341 button.colab-df-convert');\n",
              "        buttonEl.style.display =\n",
              "          google.colab.kernel.accessAllowed ? 'block' : 'none';\n",
              "\n",
              "        async function convertToInteractive(key) {\n",
              "          const element = document.querySelector('#df-5d476a5d-b9a0-4d6b-b4cf-3e9df7fd7341');\n",
              "          const dataTable =\n",
              "            await google.colab.kernel.invokeFunction('convertToInteractive',\n",
              "                                                     [key], {});\n",
              "          if (!dataTable) return;\n",
              "\n",
              "          const docLinkHtml = 'Like what you see? Visit the ' +\n",
              "            '<a target=\"_blank\" href=https://colab.research.google.com/notebooks/data_table.ipynb>data table notebook</a>'\n",
              "            + ' to learn more about interactive tables.';\n",
              "          element.innerHTML = '';\n",
              "          dataTable['output_type'] = 'display_data';\n",
              "          await google.colab.output.renderOutput(dataTable, element);\n",
              "          const docLink = document.createElement('div');\n",
              "          docLink.innerHTML = docLinkHtml;\n",
              "          element.appendChild(docLink);\n",
              "        }\n",
              "      </script>\n",
              "    </div>\n",
              "  </div>\n",
              "  "
            ]
          },
          "metadata": {},
          "execution_count": 11
        }
      ]
    },
    {
      "cell_type": "code",
      "source": [
        "print('\\n\\t- Non customers\\n')\n",
        "Main_stats_non_customer_dt"
      ],
      "metadata": {
        "colab": {
          "base_uri": "https://localhost:8080/",
          "height": 446
        },
        "id": "RgqyQ7vr2WZN",
        "outputId": "0b48bf68-0f93-4ee8-8b68-ee095574fa4b"
      },
      "execution_count": 12,
      "outputs": [
        {
          "output_type": "stream",
          "name": "stdout",
          "text": [
            "\n",
            "\t- Non customers\n",
            "\n"
          ]
        },
        {
          "output_type": "execute_result",
          "data": {
            "text/plain": [
              "               Measure       Revenue  CNT_EMPLOYEE  Mobile_potential  \\\n",
              "0                count  5.876000e+03   5876.000000       5876.000000   \n",
              "1                 mean  4.321201e+06     23.455582       2328.654811   \n",
              "2                  std  2.421518e+07     10.744597        519.098216   \n",
              "3                  min  1.250000e+03     10.000000       1167.413892   \n",
              "4                  25%  9.029860e+05     15.000000       1975.516519   \n",
              "5                  50%  1.750000e+06     20.000000       2277.972797   \n",
              "6                  75%  3.501124e+06     29.000000       2631.926166   \n",
              "7                  max  1.175000e+09     55.000000       4645.190033   \n",
              "8                  iqr  2.598138e+06     14.000000        656.409647   \n",
              "9   outliers (1.5*IQR)  5.690000e+02    135.000000        131.000000   \n",
              "10    outliers (5*IQR)  1.690000e+02      0.000000          0.000000   \n",
              "\n",
              "    CNT_CB_DENSITY  \n",
              "0      5876.000000  \n",
              "1       365.420014  \n",
              "2       599.272873  \n",
              "3         0.000000  \n",
              "4        37.000000  \n",
              "5       113.000000  \n",
              "6       407.250000  \n",
              "7      5149.000000  \n",
              "8       370.250000  \n",
              "9       583.000000  \n",
              "10      154.000000  "
            ],
            "text/html": [
              "\n",
              "  <div id=\"df-013cb37b-5883-426d-9262-217c50c275ec\">\n",
              "    <div class=\"colab-df-container\">\n",
              "      <div>\n",
              "<style scoped>\n",
              "    .dataframe tbody tr th:only-of-type {\n",
              "        vertical-align: middle;\n",
              "    }\n",
              "\n",
              "    .dataframe tbody tr th {\n",
              "        vertical-align: top;\n",
              "    }\n",
              "\n",
              "    .dataframe thead th {\n",
              "        text-align: right;\n",
              "    }\n",
              "</style>\n",
              "<table border=\"1\" class=\"dataframe\">\n",
              "  <thead>\n",
              "    <tr style=\"text-align: right;\">\n",
              "      <th></th>\n",
              "      <th>Measure</th>\n",
              "      <th>Revenue</th>\n",
              "      <th>CNT_EMPLOYEE</th>\n",
              "      <th>Mobile_potential</th>\n",
              "      <th>CNT_CB_DENSITY</th>\n",
              "    </tr>\n",
              "  </thead>\n",
              "  <tbody>\n",
              "    <tr>\n",
              "      <th>0</th>\n",
              "      <td>count</td>\n",
              "      <td>5.876000e+03</td>\n",
              "      <td>5876.000000</td>\n",
              "      <td>5876.000000</td>\n",
              "      <td>5876.000000</td>\n",
              "    </tr>\n",
              "    <tr>\n",
              "      <th>1</th>\n",
              "      <td>mean</td>\n",
              "      <td>4.321201e+06</td>\n",
              "      <td>23.455582</td>\n",
              "      <td>2328.654811</td>\n",
              "      <td>365.420014</td>\n",
              "    </tr>\n",
              "    <tr>\n",
              "      <th>2</th>\n",
              "      <td>std</td>\n",
              "      <td>2.421518e+07</td>\n",
              "      <td>10.744597</td>\n",
              "      <td>519.098216</td>\n",
              "      <td>599.272873</td>\n",
              "    </tr>\n",
              "    <tr>\n",
              "      <th>3</th>\n",
              "      <td>min</td>\n",
              "      <td>1.250000e+03</td>\n",
              "      <td>10.000000</td>\n",
              "      <td>1167.413892</td>\n",
              "      <td>0.000000</td>\n",
              "    </tr>\n",
              "    <tr>\n",
              "      <th>4</th>\n",
              "      <td>25%</td>\n",
              "      <td>9.029860e+05</td>\n",
              "      <td>15.000000</td>\n",
              "      <td>1975.516519</td>\n",
              "      <td>37.000000</td>\n",
              "    </tr>\n",
              "    <tr>\n",
              "      <th>5</th>\n",
              "      <td>50%</td>\n",
              "      <td>1.750000e+06</td>\n",
              "      <td>20.000000</td>\n",
              "      <td>2277.972797</td>\n",
              "      <td>113.000000</td>\n",
              "    </tr>\n",
              "    <tr>\n",
              "      <th>6</th>\n",
              "      <td>75%</td>\n",
              "      <td>3.501124e+06</td>\n",
              "      <td>29.000000</td>\n",
              "      <td>2631.926166</td>\n",
              "      <td>407.250000</td>\n",
              "    </tr>\n",
              "    <tr>\n",
              "      <th>7</th>\n",
              "      <td>max</td>\n",
              "      <td>1.175000e+09</td>\n",
              "      <td>55.000000</td>\n",
              "      <td>4645.190033</td>\n",
              "      <td>5149.000000</td>\n",
              "    </tr>\n",
              "    <tr>\n",
              "      <th>8</th>\n",
              "      <td>iqr</td>\n",
              "      <td>2.598138e+06</td>\n",
              "      <td>14.000000</td>\n",
              "      <td>656.409647</td>\n",
              "      <td>370.250000</td>\n",
              "    </tr>\n",
              "    <tr>\n",
              "      <th>9</th>\n",
              "      <td>outliers (1.5*IQR)</td>\n",
              "      <td>5.690000e+02</td>\n",
              "      <td>135.000000</td>\n",
              "      <td>131.000000</td>\n",
              "      <td>583.000000</td>\n",
              "    </tr>\n",
              "    <tr>\n",
              "      <th>10</th>\n",
              "      <td>outliers (5*IQR)</td>\n",
              "      <td>1.690000e+02</td>\n",
              "      <td>0.000000</td>\n",
              "      <td>0.000000</td>\n",
              "      <td>154.000000</td>\n",
              "    </tr>\n",
              "  </tbody>\n",
              "</table>\n",
              "</div>\n",
              "      <button class=\"colab-df-convert\" onclick=\"convertToInteractive('df-013cb37b-5883-426d-9262-217c50c275ec')\"\n",
              "              title=\"Convert this dataframe to an interactive table.\"\n",
              "              style=\"display:none;\">\n",
              "        \n",
              "  <svg xmlns=\"http://www.w3.org/2000/svg\" height=\"24px\"viewBox=\"0 0 24 24\"\n",
              "       width=\"24px\">\n",
              "    <path d=\"M0 0h24v24H0V0z\" fill=\"none\"/>\n",
              "    <path d=\"M18.56 5.44l.94 2.06.94-2.06 2.06-.94-2.06-.94-.94-2.06-.94 2.06-2.06.94zm-11 1L8.5 8.5l.94-2.06 2.06-.94-2.06-.94L8.5 2.5l-.94 2.06-2.06.94zm10 10l.94 2.06.94-2.06 2.06-.94-2.06-.94-.94-2.06-.94 2.06-2.06.94z\"/><path d=\"M17.41 7.96l-1.37-1.37c-.4-.4-.92-.59-1.43-.59-.52 0-1.04.2-1.43.59L10.3 9.45l-7.72 7.72c-.78.78-.78 2.05 0 2.83L4 21.41c.39.39.9.59 1.41.59.51 0 1.02-.2 1.41-.59l7.78-7.78 2.81-2.81c.8-.78.8-2.07 0-2.86zM5.41 20L4 18.59l7.72-7.72 1.47 1.35L5.41 20z\"/>\n",
              "  </svg>\n",
              "      </button>\n",
              "      \n",
              "  <style>\n",
              "    .colab-df-container {\n",
              "      display:flex;\n",
              "      flex-wrap:wrap;\n",
              "      gap: 12px;\n",
              "    }\n",
              "\n",
              "    .colab-df-convert {\n",
              "      background-color: #E8F0FE;\n",
              "      border: none;\n",
              "      border-radius: 50%;\n",
              "      cursor: pointer;\n",
              "      display: none;\n",
              "      fill: #1967D2;\n",
              "      height: 32px;\n",
              "      padding: 0 0 0 0;\n",
              "      width: 32px;\n",
              "    }\n",
              "\n",
              "    .colab-df-convert:hover {\n",
              "      background-color: #E2EBFA;\n",
              "      box-shadow: 0px 1px 2px rgba(60, 64, 67, 0.3), 0px 1px 3px 1px rgba(60, 64, 67, 0.15);\n",
              "      fill: #174EA6;\n",
              "    }\n",
              "\n",
              "    [theme=dark] .colab-df-convert {\n",
              "      background-color: #3B4455;\n",
              "      fill: #D2E3FC;\n",
              "    }\n",
              "\n",
              "    [theme=dark] .colab-df-convert:hover {\n",
              "      background-color: #434B5C;\n",
              "      box-shadow: 0px 1px 3px 1px rgba(0, 0, 0, 0.15);\n",
              "      filter: drop-shadow(0px 1px 2px rgba(0, 0, 0, 0.3));\n",
              "      fill: #FFFFFF;\n",
              "    }\n",
              "  </style>\n",
              "\n",
              "      <script>\n",
              "        const buttonEl =\n",
              "          document.querySelector('#df-013cb37b-5883-426d-9262-217c50c275ec button.colab-df-convert');\n",
              "        buttonEl.style.display =\n",
              "          google.colab.kernel.accessAllowed ? 'block' : 'none';\n",
              "\n",
              "        async function convertToInteractive(key) {\n",
              "          const element = document.querySelector('#df-013cb37b-5883-426d-9262-217c50c275ec');\n",
              "          const dataTable =\n",
              "            await google.colab.kernel.invokeFunction('convertToInteractive',\n",
              "                                                     [key], {});\n",
              "          if (!dataTable) return;\n",
              "\n",
              "          const docLinkHtml = 'Like what you see? Visit the ' +\n",
              "            '<a target=\"_blank\" href=https://colab.research.google.com/notebooks/data_table.ipynb>data table notebook</a>'\n",
              "            + ' to learn more about interactive tables.';\n",
              "          element.innerHTML = '';\n",
              "          dataTable['output_type'] = 'display_data';\n",
              "          await google.colab.output.renderOutput(dataTable, element);\n",
              "          const docLink = document.createElement('div');\n",
              "          docLink.innerHTML = docLinkHtml;\n",
              "          element.appendChild(docLink);\n",
              "        }\n",
              "      </script>\n",
              "    </div>\n",
              "  </div>\n",
              "  "
            ]
          },
          "metadata": {},
          "execution_count": 12
        }
      ]
    },
    {
      "cell_type": "code",
      "source": [
        "def boxPlots(dataset1, dataset2, name1, name2, variableName):\n",
        "  data = [dataset1[variableName],dataset2[variableName]]\n",
        "  fig1, ax1 = pyplot.subplots()\n",
        "  ax1.set_title(variableName)\n",
        "  ax1.boxplot(data, labels = [f'{variableName} {name1}', f'{variableName} {name2}'])\n",
        "  pyplot.show()"
      ],
      "metadata": {
        "id": "mUy5pTYaxg69"
      },
      "execution_count": 13,
      "outputs": []
    },
    {
      "cell_type": "code",
      "source": [
        "#BOXPLOTS\n",
        "variables = ['Revenue', 'CNT_EMPLOYEE', 'Mobile_potential', 'CNT_CB_DENSITY']\n",
        "for var in variables:\n",
        "  boxPlots(customer_dt, noncustomer_dt, 'customer', 'non customer', var)"
      ],
      "metadata": {
        "id": "eoUZlEK3IswT",
        "colab": {
          "base_uri": "https://localhost:8080/",
          "height": 1000
        },
        "outputId": "029d38e2-d1eb-424b-fde4-7ae8931654d6"
      },
      "execution_count": 14,
      "outputs": [
        {
          "output_type": "stream",
          "name": "stderr",
          "text": [
            "/usr/local/lib/python3.7/dist-packages/matplotlib/cbook/__init__.py:1376: VisibleDeprecationWarning: Creating an ndarray from ragged nested sequences (which is a list-or-tuple of lists-or-tuples-or ndarrays with different lengths or shapes) is deprecated. If you meant to do this, you must specify 'dtype=object' when creating the ndarray.\n",
            "  X = np.atleast_1d(X.T if isinstance(X, np.ndarray) else np.asarray(X))\n"
          ]
        },
        {
          "output_type": "display_data",
          "data": {
            "text/plain": [
              "<Figure size 432x288 with 1 Axes>"
            ],
            "image/png": "[encoded data removed]"
          },
          "metadata": {
            "needs_background": "light"
          }
        },
        {
          "output_type": "stream",
          "name": "stderr",
          "text": [
            "/usr/local/lib/python3.7/dist-packages/matplotlib/cbook/__init__.py:1376: VisibleDeprecationWarning: Creating an ndarray from ragged nested sequences (which is a list-or-tuple of lists-or-tuples-or ndarrays with different lengths or shapes) is deprecated. If you meant to do this, you must specify 'dtype=object' when creating the ndarray.\n",
            "  X = np.atleast_1d(X.T if isinstance(X, np.ndarray) else np.asarray(X))\n"
          ]
        },
        {
          "output_type": "display_data",
          "data": {
            "text/plain": [
              "<Figure size 432x288 with 1 Axes>"
            ],
            "image/png": "[encoded data removed]"
          },
          "metadata": {
            "needs_background": "light"
          }
        },
        {
          "output_type": "stream",
          "name": "stderr",
          "text": [
            "/usr/local/lib/python3.7/dist-packages/matplotlib/cbook/__init__.py:1376: VisibleDeprecationWarning: Creating an ndarray from ragged nested sequences (which is a list-or-tuple of lists-or-tuples-or ndarrays with different lengths or shapes) is deprecated. If you meant to do this, you must specify 'dtype=object' when creating the ndarray.\n",
            "  X = np.atleast_1d(X.T if isinstance(X, np.ndarray) else np.asarray(X))\n"
          ]
        },
        {
          "output_type": "display_data",
          "data": {
            "text/plain": [
              "<Figure size 432x288 with 1 Axes>"
            ],
            "image/png": "[encoded data removed]"
          },
          "metadata": {
            "needs_background": "light"
          }
        },
        {
          "output_type": "stream",
          "name": "stderr",
          "text": [
            "/usr/local/lib/python3.7/dist-packages/matplotlib/cbook/__init__.py:1376: VisibleDeprecationWarning: Creating an ndarray from ragged nested sequences (which is a list-or-tuple of lists-or-tuples-or ndarrays with different lengths or shapes) is deprecated. If you meant to do this, you must specify 'dtype=object' when creating the ndarray.\n",
            "  X = np.atleast_1d(X.T if isinstance(X, np.ndarray) else np.asarray(X))\n"
          ]
        },
        {
          "output_type": "display_data",
          "data": {
            "text/plain": [
              "<Figure size 432x288 with 1 Axes>"
            ],
            "image/png": "[encoded data removed]"
          },
          "metadata": {
            "needs_background": "light"
          }
        }
      ]
    },
    {
      "cell_type": "markdown",
      "metadata": {
        "id": "P4LaqjUyKLhm"
      },
      "source": [
        "As we observe from the boxplots, some of them present outliers. There are several mechanisms to eliminate outliers. One option is to eliminate the values higher than a statistical value for each numerical variable."
      ]
    },
    {
      "cell_type": "code",
      "source": [
        "print('Number of outliers:')\n",
        "print('\\t- Customers\\n')\n",
        "print('Computed in terms of 1.5*IQR')\n",
        "print(Main_stats_customer_dt.iloc[9])\n",
        "print('\\nComputed in terms of 5*IQR')\n",
        "print(Main_stats_customer_dt.iloc[10])\n",
        "\n",
        "\n",
        "print('\\n\\t- Non customers\\n')\n",
        "print('Computed in terms of 1.5*IQR')\n",
        "print(Main_stats_non_customer_dt.iloc[9])\n",
        "print('\\nComputed in terms of 5*IQR')\n",
        "print(Main_stats_non_customer_dt.iloc[10])"
      ],
      "metadata": {
        "id": "dWJnN5i26lRE",
        "colab": {
          "base_uri": "https://localhost:8080/"
        },
        "outputId": "35a0caf1-0a97-416d-c6e5-e30233b39dbb"
      },
      "execution_count": 15,
      "outputs": [
        {
          "output_type": "stream",
          "name": "stdout",
          "text": [
            "Number of outliers:\n",
            "\t- Customers\n",
            "\n",
            "Computed in terms of 1.5*IQR\n",
            "Measure             outliers (1.5*IQR)\n",
            "Revenue                           95.0\n",
            "CNT_EMPLOYEE                       0.0\n",
            "Mobile_potential                  19.0\n",
            "CNT_CB_DENSITY                    99.0\n",
            "Name: 9, dtype: object\n",
            "\n",
            "Computed in terms of 5*IQR\n",
            "Measure             outliers (5*IQR)\n",
            "Revenue                         26.0\n",
            "CNT_EMPLOYEE                     0.0\n",
            "Mobile_potential                 0.0\n",
            "CNT_CB_DENSITY                  20.0\n",
            "Name: 10, dtype: object\n",
            "\n",
            "\t- Non customers\n",
            "\n",
            "Computed in terms of 1.5*IQR\n",
            "Measure             outliers (1.5*IQR)\n",
            "Revenue                          569.0\n",
            "CNT_EMPLOYEE                     135.0\n",
            "Mobile_potential                 131.0\n",
            "CNT_CB_DENSITY                   583.0\n",
            "Name: 9, dtype: object\n",
            "\n",
            "Computed in terms of 5*IQR\n",
            "Measure             outliers (5*IQR)\n",
            "Revenue                        169.0\n",
            "CNT_EMPLOYEE                     0.0\n",
            "Mobile_potential                 0.0\n",
            "CNT_CB_DENSITY                 154.0\n",
            "Name: 10, dtype: object\n"
          ]
        }
      ]
    },
    {
      "cell_type": "markdown",
      "metadata": {
        "id": "puFRcL_-KLhn"
      },
      "source": [
        "[**EX4**] [**CODE**] Remove the values higher than 5* IQR for each variable: `Revenue`, `CNT_EMPLOYEE`, `Mobile_potential`, `CNT_CB_DENSITY`, `CNT_CB_MOB_DENSITY`and `CNT_CB_FN_DENSITY`. Compare with the boxplot of the previous exercise [**EX3**] and explain the differences."
      ]
    },
    {
      "cell_type": "markdown",
      "metadata": {
        "id": "QT-ULfjoKLhv"
      },
      "source": [
        "On the other hand, before applying any classification algorithm, it is necessary to transform non-numerical variables. The most common transformations are **coding as integer** or **coding as dummies**. Before deciding the mechanism it is important to analyze, for each categorical variable, their number of different values and their frequencies. In case of high number of possible values in comparision with the size of the dataset, **dummy** transformation could generate sparse matrix."
      ]
    },
    {
      "cell_type": "code",
      "source": [
        "def remove(dt, v):\n",
        "  q1 = dt[v].quantile(0.25)\n",
        "  q3 = dt[v].quantile(0.75)\n",
        "  iqr = q3-q1\n",
        "  new_dt = dt[(dt[v] <= 5*iqr)]\n",
        "  return new_dt"
      ],
      "metadata": {
        "id": "wWYxe5Jzsb0j"
      },
      "execution_count": 16,
      "outputs": []
    },
    {
      "cell_type": "code",
      "source": [
        "# Removing 5*IQR Outliers\n",
        "variables = ['Revenue', 'CNT_EMPLOYEE', 'Mobile_potential', 'CNT_CB_DENSITY', 'CNT_CB_MOB_DENSITY', 'CNT_CB_FN_DENSITY']    \n",
        "for v in variables:    \n",
        "    customer_dt = remove(customer_dt, v)\n",
        "    noncustomer_dt = remove(noncustomer_dt, v)\n",
        "\n",
        "Main_stats_customer_dt = compute_stats(customer_dt, variables)\n",
        "Main_stats_non_customer_dt = compute_stats(noncustomer_dt, variables)"
      ],
      "metadata": {
        "id": "13YuvBhC4Rup",
        "colab": {
          "base_uri": "https://localhost:8080/"
        },
        "outputId": "1fbfd861-24a6-4521-a9e9-313019ffeb7b"
      },
      "execution_count": 17,
      "outputs": [
        {
          "output_type": "stream",
          "name": "stderr",
          "text": [
            "/usr/local/lib/python3.7/dist-packages/ipykernel_launcher.py:27: FutureWarning: Automatic reindexing on DataFrame vs Series comparisons is deprecated and will raise ValueError in a future version.  Do `left, right = left.align(right, axis=1, copy=False)` before e.g. `left == right`\n"
          ]
        }
      ]
    },
    {
      "cell_type": "markdown",
      "source": [
        "OUTLIERS REMOVED (IN TERMS OF 5*IQR)"
      ],
      "metadata": {
        "id": "dSgLo_J_vRnk"
      }
    },
    {
      "cell_type": "code",
      "source": [
        "print('Main stats customer after removing outliers')\n",
        "Main_stats_customer_dt"
      ],
      "metadata": {
        "id": "gNhMugcvHono",
        "colab": {
          "base_uri": "https://localhost:8080/",
          "height": 412
        },
        "outputId": "94be27ce-27a4-4b6a-d398-7dc59cec39a5"
      },
      "execution_count": 18,
      "outputs": [
        {
          "output_type": "stream",
          "name": "stdout",
          "text": [
            "Main stats customer after removing outliers\n"
          ]
        },
        {
          "output_type": "execute_result",
          "data": {
            "text/plain": [
              "               Measure       Revenue  CNT_EMPLOYEE  Mobile_potential  \\\n",
              "0                count  9.620000e+02    962.000000        962.000000   \n",
              "1                 mean  3.028454e+06     25.238046       2441.186353   \n",
              "2                  std  2.895021e+06     10.890166        509.349970   \n",
              "3                  min  1.072500e+04     10.000000       1235.999263   \n",
              "4                  25%  1.000000e+06     16.000000       2088.083590   \n",
              "5                  50%  2.050000e+06     22.000000       2394.037791   \n",
              "6                  75%  3.745549e+06     32.000000       2794.919473   \n",
              "7                  max  1.500000e+07     55.000000       3714.288127   \n",
              "8                  iqr  2.745549e+06     16.000000        706.835883   \n",
              "9   outliers (1.5*IQR)  8.000000e+01      0.000000          0.000000   \n",
              "10    outliers (5*IQR)  0.000000e+00      0.000000          0.000000   \n",
              "\n",
              "    CNT_CB_DENSITY  CNT_CB_MOB_DENSITY  CNT_CB_FN_DENSITY  \n",
              "0       962.000000          962.000000         962.000000  \n",
              "1       310.908524          304.101871          19.613306  \n",
              "2       349.889621          340.775482          25.608803  \n",
              "3         2.000000            2.000000           0.000000  \n",
              "4        69.250000           68.000000           3.000000  \n",
              "5       172.000000          169.000000          11.000000  \n",
              "6       445.500000          438.500000          23.750000  \n",
              "7      1771.000000         1715.000000         130.000000  \n",
              "8       376.250000          370.500000          20.750000  \n",
              "9        44.000000           44.000000          76.000000  \n",
              "10        0.000000            0.000000           5.000000  "
            ],
            "text/html": [
              "\n",
              "  <div id=\"df-468f5a8b-2b8a-4d96-95cd-8919c4979cc0\">\n",
              "    <div class=\"colab-df-container\">\n",
              "      <div>\n",
              "<style scoped>\n",
              "    .dataframe tbody tr th:only-of-type {\n",
              "        vertical-align: middle;\n",
              "    }\n",
              "\n",
              "    .dataframe tbody tr th {\n",
              "        vertical-align: top;\n",
              "    }\n",
              "\n",
              "    .dataframe thead th {\n",
              "        text-align: right;\n",
              "    }\n",
              "</style>\n",
              "<table border=\"1\" class=\"dataframe\">\n",
              "  <thead>\n",
              "    <tr style=\"text-align: right;\">\n",
              "      <th></th>\n",
              "      <th>Measure</th>\n",
              "      <th>Revenue</th>\n",
              "      <th>CNT_EMPLOYEE</th>\n",
              "      <th>Mobile_potential</th>\n",
              "      <th>CNT_CB_DENSITY</th>\n",
              "      <th>CNT_CB_MOB_DENSITY</th>\n",
              "      <th>CNT_CB_FN_DENSITY</th>\n",
              "    </tr>\n",
              "  </thead>\n",
              "  <tbody>\n",
              "    <tr>\n",
              "      <th>0</th>\n",
              "      <td>count</td>\n",
              "      <td>9.620000e+02</td>\n",
              "      <td>962.000000</td>\n",
              "      <td>962.000000</td>\n",
              "      <td>962.000000</td>\n",
              "      <td>962.000000</td>\n",
              "      <td>962.000000</td>\n",
              "    </tr>\n",
              "    <tr>\n",
              "      <th>1</th>\n",
              "      <td>mean</td>\n",
              "      <td>3.028454e+06</td>\n",
              "      <td>25.238046</td>\n",
              "      <td>2441.186353</td>\n",
              "      <td>310.908524</td>\n",
              "      <td>304.101871</td>\n",
              "      <td>19.613306</td>\n",
              "    </tr>\n",
              "    <tr>\n",
              "      <th>2</th>\n",
              "      <td>std</td>\n",
              "      <td>2.895021e+06</td>\n",
              "      <td>10.890166</td>\n",
              "      <td>509.349970</td>\n",
              "      <td>349.889621</td>\n",
              "      <td>340.775482</td>\n",
              "      <td>25.608803</td>\n",
              "    </tr>\n",
              "    <tr>\n",
              "      <th>3</th>\n",
              "      <td>min</td>\n",
              "      <td>1.072500e+04</td>\n",
              "      <td>10.000000</td>\n",
              "      <td>1235.999263</td>\n",
              "      <td>2.000000</td>\n",
              "      <td>2.000000</td>\n",
              "      <td>0.000000</td>\n",
              "    </tr>\n",
              "    <tr>\n",
              "      <th>4</th>\n",
              "      <td>25%</td>\n",
              "      <td>1.000000e+06</td>\n",
              "      <td>16.000000</td>\n",
              "      <td>2088.083590</td>\n",
              "      <td>69.250000</td>\n",
              "      <td>68.000000</td>\n",
              "      <td>3.000000</td>\n",
              "    </tr>\n",
              "    <tr>\n",
              "      <th>5</th>\n",
              "      <td>50%</td>\n",
              "      <td>2.050000e+06</td>\n",
              "      <td>22.000000</td>\n",
              "      <td>2394.037791</td>\n",
              "      <td>172.000000</td>\n",
              "      <td>169.000000</td>\n",
              "      <td>11.000000</td>\n",
              "    </tr>\n",
              "    <tr>\n",
              "      <th>6</th>\n",
              "      <td>75%</td>\n",
              "      <td>3.745549e+06</td>\n",
              "      <td>32.000000</td>\n",
              "      <td>2794.919473</td>\n",
              "      <td>445.500000</td>\n",
              "      <td>438.500000</td>\n",
              "      <td>23.750000</td>\n",
              "    </tr>\n",
              "    <tr>\n",
              "      <th>7</th>\n",
              "      <td>max</td>\n",
              "      <td>1.500000e+07</td>\n",
              "      <td>55.000000</td>\n",
              "      <td>3714.288127</td>\n",
              "      <td>1771.000000</td>\n",
              "      <td>1715.000000</td>\n",
              "      <td>130.000000</td>\n",
              "    </tr>\n",
              "    <tr>\n",
              "      <th>8</th>\n",
              "      <td>iqr</td>\n",
              "      <td>2.745549e+06</td>\n",
              "      <td>16.000000</td>\n",
              "      <td>706.835883</td>\n",
              "      <td>376.250000</td>\n",
              "      <td>370.500000</td>\n",
              "      <td>20.750000</td>\n",
              "    </tr>\n",
              "    <tr>\n",
              "      <th>9</th>\n",
              "      <td>outliers (1.5*IQR)</td>\n",
              "      <td>8.000000e+01</td>\n",
              "      <td>0.000000</td>\n",
              "      <td>0.000000</td>\n",
              "      <td>44.000000</td>\n",
              "      <td>44.000000</td>\n",
              "      <td>76.000000</td>\n",
              "    </tr>\n",
              "    <tr>\n",
              "      <th>10</th>\n",
              "      <td>outliers (5*IQR)</td>\n",
              "      <td>0.000000e+00</td>\n",
              "      <td>0.000000</td>\n",
              "      <td>0.000000</td>\n",
              "      <td>0.000000</td>\n",
              "      <td>0.000000</td>\n",
              "      <td>5.000000</td>\n",
              "    </tr>\n",
              "  </tbody>\n",
              "</table>\n",
              "</div>\n",
              "      <button class=\"colab-df-convert\" onclick=\"convertToInteractive('df-468f5a8b-2b8a-4d96-95cd-8919c4979cc0')\"\n",
              "              title=\"Convert this dataframe to an interactive table.\"\n",
              "              style=\"display:none;\">\n",
              "        \n",
              "  <svg xmlns=\"http://www.w3.org/2000/svg\" height=\"24px\"viewBox=\"0 0 24 24\"\n",
              "       width=\"24px\">\n",
              "    <path d=\"M0 0h24v24H0V0z\" fill=\"none\"/>\n",
              "    <path d=\"M18.56 5.44l.94 2.06.94-2.06 2.06-.94-2.06-.94-.94-2.06-.94 2.06-2.06.94zm-11 1L8.5 8.5l.94-2.06 2.06-.94-2.06-.94L8.5 2.5l-.94 2.06-2.06.94zm10 10l.94 2.06.94-2.06 2.06-.94-2.06-.94-.94-2.06-.94 2.06-2.06.94z\"/><path d=\"M17.41 7.96l-1.37-1.37c-.4-.4-.92-.59-1.43-.59-.52 0-1.04.2-1.43.59L10.3 9.45l-7.72 7.72c-.78.78-.78 2.05 0 2.83L4 21.41c.39.39.9.59 1.41.59.51 0 1.02-.2 1.41-.59l7.78-7.78 2.81-2.81c.8-.78.8-2.07 0-2.86zM5.41 20L4 18.59l7.72-7.72 1.47 1.35L5.41 20z\"/>\n",
              "  </svg>\n",
              "      </button>\n",
              "      \n",
              "  <style>\n",
              "    .colab-df-container {\n",
              "      display:flex;\n",
              "      flex-wrap:wrap;\n",
              "      gap: 12px;\n",
              "    }\n",
              "\n",
              "    .colab-df-convert {\n",
              "      background-color: #E8F0FE;\n",
              "      border: none;\n",
              "      border-radius: 50%;\n",
              "      cursor: pointer;\n",
              "      display: none;\n",
              "      fill: #1967D2;\n",
              "      height: 32px;\n",
              "      padding: 0 0 0 0;\n",
              "      width: 32px;\n",
              "    }\n",
              "\n",
              "    .colab-df-convert:hover {\n",
              "      background-color: #E2EBFA;\n",
              "      box-shadow: 0px 1px 2px rgba(60, 64, 67, 0.3), 0px 1px 3px 1px rgba(60, 64, 67, 0.15);\n",
              "      fill: #174EA6;\n",
              "    }\n",
              "\n",
              "    [theme=dark] .colab-df-convert {\n",
              "      background-color: #3B4455;\n",
              "      fill: #D2E3FC;\n",
              "    }\n",
              "\n",
              "    [theme=dark] .colab-df-convert:hover {\n",
              "      background-color: #434B5C;\n",
              "      box-shadow: 0px 1px 3px 1px rgba(0, 0, 0, 0.15);\n",
              "      filter: drop-shadow(0px 1px 2px rgba(0, 0, 0, 0.3));\n",
              "      fill: #FFFFFF;\n",
              "    }\n",
              "  </style>\n",
              "\n",
              "      <script>\n",
              "        const buttonEl =\n",
              "          document.querySelector('#df-468f5a8b-2b8a-4d96-95cd-8919c4979cc0 button.colab-df-convert');\n",
              "        buttonEl.style.display =\n",
              "          google.colab.kernel.accessAllowed ? 'block' : 'none';\n",
              "\n",
              "        async function convertToInteractive(key) {\n",
              "          const element = document.querySelector('#df-468f5a8b-2b8a-4d96-95cd-8919c4979cc0');\n",
              "          const dataTable =\n",
              "            await google.colab.kernel.invokeFunction('convertToInteractive',\n",
              "                                                     [key], {});\n",
              "          if (!dataTable) return;\n",
              "\n",
              "          const docLinkHtml = 'Like what you see? Visit the ' +\n",
              "            '<a target=\"_blank\" href=https://colab.research.google.com/notebooks/data_table.ipynb>data table notebook</a>'\n",
              "            + ' to learn more about interactive tables.';\n",
              "          element.innerHTML = '';\n",
              "          dataTable['output_type'] = 'display_data';\n",
              "          await google.colab.output.renderOutput(dataTable, element);\n",
              "          const docLink = document.createElement('div');\n",
              "          docLink.innerHTML = docLinkHtml;\n",
              "          element.appendChild(docLink);\n",
              "        }\n",
              "      </script>\n",
              "    </div>\n",
              "  </div>\n",
              "  "
            ]
          },
          "metadata": {},
          "execution_count": 18
        }
      ]
    },
    {
      "cell_type": "code",
      "source": [
        "print('Main stats non customer after removing outliers')\n",
        "Main_stats_non_customer_dt"
      ],
      "metadata": {
        "id": "iywgpnH_6mBB",
        "colab": {
          "base_uri": "https://localhost:8080/",
          "height": 412
        },
        "outputId": "c88424a2-2cf4-401a-e8a2-6b774d074f04"
      },
      "execution_count": 19,
      "outputs": [
        {
          "output_type": "stream",
          "name": "stdout",
          "text": [
            "Main stats non customer after removing outliers\n"
          ]
        },
        {
          "output_type": "execute_result",
          "data": {
            "text/plain": [
              "               Measure       Revenue  CNT_EMPLOYEE  Mobile_potential  \\\n",
              "0                count  4.884000e+03   4884.000000       4884.000000   \n",
              "1                 mean  2.461486e+06     22.602580       2262.888467   \n",
              "2                  std  2.425409e+06     10.355484        438.726812   \n",
              "3                  min  1.250000e+03     10.000000       1167.413892   \n",
              "4                  25%  8.548632e+05     15.000000       1960.208685   \n",
              "5                  50%  1.600000e+06     19.000000       2248.444617   \n",
              "6                  75%  3.078259e+06     28.000000       2578.442877   \n",
              "7                  max  1.290000e+07     55.000000       3325.613722   \n",
              "8                  iqr  2.223396e+06     13.000000        618.234192   \n",
              "9   outliers (1.5*IQR)  4.090000e+02    186.000000          0.000000   \n",
              "10    outliers (5*IQR)  0.000000e+00      0.000000          0.000000   \n",
              "\n",
              "    CNT_CB_DENSITY  CNT_CB_MOB_DENSITY  CNT_CB_FN_DENSITY  \n",
              "0      4884.000000         4884.000000        4884.000000  \n",
              "1       202.212940          198.141687          12.173628  \n",
              "2       242.038978          237.377280          16.102749  \n",
              "3         0.000000            0.000000           0.000000  \n",
              "4        34.000000           33.000000           1.000000  \n",
              "5        94.500000           92.000000           5.000000  \n",
              "6       289.000000          282.250000          17.000000  \n",
              "7      1245.000000         1212.000000          85.000000  \n",
              "8       255.000000          249.250000          16.000000  \n",
              "9       363.000000          364.000000         389.000000  \n",
              "10        0.000000            0.000000           0.000000  "
            ],
            "text/html": [
              "\n",
              "  <div id=\"df-b18f9d06-3550-4c25-b3f0-674769b4ea10\">\n",
              "    <div class=\"colab-df-container\">\n",
              "      <div>\n",
              "<style scoped>\n",
              "    .dataframe tbody tr th:only-of-type {\n",
              "        vertical-align: middle;\n",
              "    }\n",
              "\n",
              "    .dataframe tbody tr th {\n",
              "        vertical-align: top;\n",
              "    }\n",
              "\n",
              "    .dataframe thead th {\n",
              "        text-align: right;\n",
              "    }\n",
              "</style>\n",
              "<table border=\"1\" class=\"dataframe\">\n",
              "  <thead>\n",
              "    <tr style=\"text-align: right;\">\n",
              "      <th></th>\n",
              "      <th>Measure</th>\n",
              "      <th>Revenue</th>\n",
              "      <th>CNT_EMPLOYEE</th>\n",
              "      <th>Mobile_potential</th>\n",
              "      <th>CNT_CB_DENSITY</th>\n",
              "      <th>CNT_CB_MOB_DENSITY</th>\n",
              "      <th>CNT_CB_FN_DENSITY</th>\n",
              "    </tr>\n",
              "  </thead>\n",
              "  <tbody>\n",
              "    <tr>\n",
              "      <th>0</th>\n",
              "      <td>count</td>\n",
              "      <td>4.884000e+03</td>\n",
              "      <td>4884.000000</td>\n",
              "      <td>4884.000000</td>\n",
              "      <td>4884.000000</td>\n",
              "      <td>4884.000000</td>\n",
              "      <td>4884.000000</td>\n",
              "    </tr>\n",
              "    <tr>\n",
              "      <th>1</th>\n",
              "      <td>mean</td>\n",
              "      <td>2.461486e+06</td>\n",
              "      <td>22.602580</td>\n",
              "      <td>2262.888467</td>\n",
              "      <td>202.212940</td>\n",
              "      <td>198.141687</td>\n",
              "      <td>12.173628</td>\n",
              "    </tr>\n",
              "    <tr>\n",
              "      <th>2</th>\n",
              "      <td>std</td>\n",
              "      <td>2.425409e+06</td>\n",
              "      <td>10.355484</td>\n",
              "      <td>438.726812</td>\n",
              "      <td>242.038978</td>\n",
              "      <td>237.377280</td>\n",
              "      <td>16.102749</td>\n",
              "    </tr>\n",
              "    <tr>\n",
              "      <th>3</th>\n",
              "      <td>min</td>\n",
              "      <td>1.250000e+03</td>\n",
              "      <td>10.000000</td>\n",
              "      <td>1167.413892</td>\n",
              "      <td>0.000000</td>\n",
              "      <td>0.000000</td>\n",
              "      <td>0.000000</td>\n",
              "    </tr>\n",
              "    <tr>\n",
              "      <th>4</th>\n",
              "      <td>25%</td>\n",
              "      <td>8.548632e+05</td>\n",
              "      <td>15.000000</td>\n",
              "      <td>1960.208685</td>\n",
              "      <td>34.000000</td>\n",
              "      <td>33.000000</td>\n",
              "      <td>1.000000</td>\n",
              "    </tr>\n",
              "    <tr>\n",
              "      <th>5</th>\n",
              "      <td>50%</td>\n",
              "      <td>1.600000e+06</td>\n",
              "      <td>19.000000</td>\n",
              "      <td>2248.444617</td>\n",
              "      <td>94.500000</td>\n",
              "      <td>92.000000</td>\n",
              "      <td>5.000000</td>\n",
              "    </tr>\n",
              "    <tr>\n",
              "      <th>6</th>\n",
              "      <td>75%</td>\n",
              "      <td>3.078259e+06</td>\n",
              "      <td>28.000000</td>\n",
              "      <td>2578.442877</td>\n",
              "      <td>289.000000</td>\n",
              "      <td>282.250000</td>\n",
              "      <td>17.000000</td>\n",
              "    </tr>\n",
              "    <tr>\n",
              "      <th>7</th>\n",
              "      <td>max</td>\n",
              "      <td>1.290000e+07</td>\n",
              "      <td>55.000000</td>\n",
              "      <td>3325.613722</td>\n",
              "      <td>1245.000000</td>\n",
              "      <td>1212.000000</td>\n",
              "      <td>85.000000</td>\n",
              "    </tr>\n",
              "    <tr>\n",
              "      <th>8</th>\n",
              "      <td>iqr</td>\n",
              "      <td>2.223396e+06</td>\n",
              "      <td>13.000000</td>\n",
              "      <td>618.234192</td>\n",
              "      <td>255.000000</td>\n",
              "      <td>249.250000</td>\n",
              "      <td>16.000000</td>\n",
              "    </tr>\n",
              "    <tr>\n",
              "      <th>9</th>\n",
              "      <td>outliers (1.5*IQR)</td>\n",
              "      <td>4.090000e+02</td>\n",
              "      <td>186.000000</td>\n",
              "      <td>0.000000</td>\n",
              "      <td>363.000000</td>\n",
              "      <td>364.000000</td>\n",
              "      <td>389.000000</td>\n",
              "    </tr>\n",
              "    <tr>\n",
              "      <th>10</th>\n",
              "      <td>outliers (5*IQR)</td>\n",
              "      <td>0.000000e+00</td>\n",
              "      <td>0.000000</td>\n",
              "      <td>0.000000</td>\n",
              "      <td>0.000000</td>\n",
              "      <td>0.000000</td>\n",
              "      <td>0.000000</td>\n",
              "    </tr>\n",
              "  </tbody>\n",
              "</table>\n",
              "</div>\n",
              "      <button class=\"colab-df-convert\" onclick=\"convertToInteractive('df-b18f9d06-3550-4c25-b3f0-674769b4ea10')\"\n",
              "              title=\"Convert this dataframe to an interactive table.\"\n",
              "              style=\"display:none;\">\n",
              "        \n",
              "  <svg xmlns=\"http://www.w3.org/2000/svg\" height=\"24px\"viewBox=\"0 0 24 24\"\n",
              "       width=\"24px\">\n",
              "    <path d=\"M0 0h24v24H0V0z\" fill=\"none\"/>\n",
              "    <path d=\"M18.56 5.44l.94 2.06.94-2.06 2.06-.94-2.06-.94-.94-2.06-.94 2.06-2.06.94zm-11 1L8.5 8.5l.94-2.06 2.06-.94-2.06-.94L8.5 2.5l-.94 2.06-2.06.94zm10 10l.94 2.06.94-2.06 2.06-.94-2.06-.94-.94-2.06-.94 2.06-2.06.94z\"/><path d=\"M17.41 7.96l-1.37-1.37c-.4-.4-.92-.59-1.43-.59-.52 0-1.04.2-1.43.59L10.3 9.45l-7.72 7.72c-.78.78-.78 2.05 0 2.83L4 21.41c.39.39.9.59 1.41.59.51 0 1.02-.2 1.41-.59l7.78-7.78 2.81-2.81c.8-.78.8-2.07 0-2.86zM5.41 20L4 18.59l7.72-7.72 1.47 1.35L5.41 20z\"/>\n",
              "  </svg>\n",
              "      </button>\n",
              "      \n",
              "  <style>\n",
              "    .colab-df-container {\n",
              "      display:flex;\n",
              "      flex-wrap:wrap;\n",
              "      gap: 12px;\n",
              "    }\n",
              "\n",
              "    .colab-df-convert {\n",
              "      background-color: #E8F0FE;\n",
              "      border: none;\n",
              "      border-radius: 50%;\n",
              "      cursor: pointer;\n",
              "      display: none;\n",
              "      fill: #1967D2;\n",
              "      height: 32px;\n",
              "      padding: 0 0 0 0;\n",
              "      width: 32px;\n",
              "    }\n",
              "\n",
              "    .colab-df-convert:hover {\n",
              "      background-color: #E2EBFA;\n",
              "      box-shadow: 0px 1px 2px rgba(60, 64, 67, 0.3), 0px 1px 3px 1px rgba(60, 64, 67, 0.15);\n",
              "      fill: #174EA6;\n",
              "    }\n",
              "\n",
              "    [theme=dark] .colab-df-convert {\n",
              "      background-color: #3B4455;\n",
              "      fill: #D2E3FC;\n",
              "    }\n",
              "\n",
              "    [theme=dark] .colab-df-convert:hover {\n",
              "      background-color: #434B5C;\n",
              "      box-shadow: 0px 1px 3px 1px rgba(0, 0, 0, 0.15);\n",
              "      filter: drop-shadow(0px 1px 2px rgba(0, 0, 0, 0.3));\n",
              "      fill: #FFFFFF;\n",
              "    }\n",
              "  </style>\n",
              "\n",
              "      <script>\n",
              "        const buttonEl =\n",
              "          document.querySelector('#df-b18f9d06-3550-4c25-b3f0-674769b4ea10 button.colab-df-convert');\n",
              "        buttonEl.style.display =\n",
              "          google.colab.kernel.accessAllowed ? 'block' : 'none';\n",
              "\n",
              "        async function convertToInteractive(key) {\n",
              "          const element = document.querySelector('#df-b18f9d06-3550-4c25-b3f0-674769b4ea10');\n",
              "          const dataTable =\n",
              "            await google.colab.kernel.invokeFunction('convertToInteractive',\n",
              "                                                     [key], {});\n",
              "          if (!dataTable) return;\n",
              "\n",
              "          const docLinkHtml = 'Like what you see? Visit the ' +\n",
              "            '<a target=\"_blank\" href=https://colab.research.google.com/notebooks/data_table.ipynb>data table notebook</a>'\n",
              "            + ' to learn more about interactive tables.';\n",
              "          element.innerHTML = '';\n",
              "          dataTable['output_type'] = 'display_data';\n",
              "          await google.colab.output.renderOutput(dataTable, element);\n",
              "          const docLink = document.createElement('div');\n",
              "          docLink.innerHTML = docLinkHtml;\n",
              "          element.appendChild(docLink);\n",
              "        }\n",
              "      </script>\n",
              "    </div>\n",
              "  </div>\n",
              "  "
            ]
          },
          "metadata": {},
          "execution_count": 19
        }
      ]
    },
    {
      "cell_type": "code",
      "source": [
        "#BOXPLOTS\n",
        "variables = ['Revenue', 'CNT_EMPLOYEE', 'Mobile_potential', 'CNT_CB_DENSITY']\n",
        "for var in variables:\n",
        "  boxPlots(customer_dt, noncustomer_dt, 'customer', 'non customer', var)"
      ],
      "metadata": {
        "id": "GTY6Gnx8xeUq",
        "colab": {
          "base_uri": "https://localhost:8080/",
          "height": 1000
        },
        "outputId": "78f5f5ee-00dc-4764-e896-c18773c80664"
      },
      "execution_count": 20,
      "outputs": [
        {
          "output_type": "stream",
          "name": "stderr",
          "text": [
            "/usr/local/lib/python3.7/dist-packages/matplotlib/cbook/__init__.py:1376: VisibleDeprecationWarning: Creating an ndarray from ragged nested sequences (which is a list-or-tuple of lists-or-tuples-or ndarrays with different lengths or shapes) is deprecated. If you meant to do this, you must specify 'dtype=object' when creating the ndarray.\n",
            "  X = np.atleast_1d(X.T if isinstance(X, np.ndarray) else np.asarray(X))\n"
          ]
        },
        {
          "output_type": "display_data",
          "data": {
            "text/plain": [
              "<Figure size 432x288 with 1 Axes>"
            ],
            "image/png": "[encoded data removed]"
          },
          "metadata": {
            "needs_background": "light"
          }
        },
        {
          "output_type": "stream",
          "name": "stderr",
          "text": [
            "/usr/local/lib/python3.7/dist-packages/matplotlib/cbook/__init__.py:1376: VisibleDeprecationWarning: Creating an ndarray from ragged nested sequences (which is a list-or-tuple of lists-or-tuples-or ndarrays with different lengths or shapes) is deprecated. If you meant to do this, you must specify 'dtype=object' when creating the ndarray.\n",
            "  X = np.atleast_1d(X.T if isinstance(X, np.ndarray) else np.asarray(X))\n"
          ]
        },
        {
          "output_type": "display_data",
          "data": {
            "text/plain": [
              "<Figure size 432x288 with 1 Axes>"
            ],
            "image/png": "[encoded data removed]"
          },
          "metadata": {
            "needs_background": "light"
          }
        },
        {
          "output_type": "stream",
          "name": "stderr",
          "text": [
            "/usr/local/lib/python3.7/dist-packages/matplotlib/cbook/__init__.py:1376: VisibleDeprecationWarning: Creating an ndarray from ragged nested sequences (which is a list-or-tuple of lists-or-tuples-or ndarrays with different lengths or shapes) is deprecated. If you meant to do this, you must specify 'dtype=object' when creating the ndarray.\n",
            "  X = np.atleast_1d(X.T if isinstance(X, np.ndarray) else np.asarray(X))\n"
          ]
        },
        {
          "output_type": "display_data",
          "data": {
            "text/plain": [
              "<Figure size 432x288 with 1 Axes>"
            ],
            "image/png": "[encoded data removed]"
          },
          "metadata": {
            "needs_background": "light"
          }
        },
        {
          "output_type": "stream",
          "name": "stderr",
          "text": [
            "/usr/local/lib/python3.7/dist-packages/matplotlib/cbook/__init__.py:1376: VisibleDeprecationWarning: Creating an ndarray from ragged nested sequences (which is a list-or-tuple of lists-or-tuples-or ndarrays with different lengths or shapes) is deprecated. If you meant to do this, you must specify 'dtype=object' when creating the ndarray.\n",
            "  X = np.atleast_1d(X.T if isinstance(X, np.ndarray) else np.asarray(X))\n"
          ]
        },
        {
          "output_type": "display_data",
          "data": {
            "text/plain": [
              "<Figure size 432x288 with 1 Axes>"
            ],
            "image/png": "[encoded data removed]"
          },
          "metadata": {
            "needs_background": "light"
          }
        }
      ]
    },
    {
      "cell_type": "markdown",
      "metadata": {
        "id": "TfWf0K_-KLhv"
      },
      "source": [
        "[**EX5**] [**REPORT**] Calculate the ratio of the values of `City` for `customer_dt` and `noncustomer_dt` datasets. Compare the ratio of each category of each dataset."
      ]
    },
    {
      "cell_type": "markdown",
      "metadata": {
        "id": "0bCyWWPTKLhy"
      },
      "source": [
        "As the number of distinct values is high, we will apply a **integer** encoding through the LabelEncoder() transformation as follows:"
      ]
    },
    {
      "cell_type": "code",
      "source": [
        "print('Ratio of the values of City for customers:\\n')\n",
        "print(customer_dt['City'].value_counts(normalize=True)) "
      ],
      "metadata": {
        "id": "6_HlWz9Avx_O",
        "colab": {
          "base_uri": "https://localhost:8080/"
        },
        "outputId": "10f3bb6d-c644-4c6c-9bfe-7e4fbf0d891c"
      },
      "execution_count": 21,
      "outputs": [
        {
          "output_type": "stream",
          "name": "stdout",
          "text": [
            "Ratio of the values of City for customers:\n",
            "\n",
            "München         0.021830\n",
            "Köln            0.020790\n",
            "Chemnitz        0.017672\n",
            "Dresden         0.016632\n",
            "Berlin          0.014553\n",
            "                  ...   \n",
            "Ulm             0.001040\n",
            "Hiddenhausen    0.001040\n",
            "Eppelheim       0.001040\n",
            "Flörsheim       0.001040\n",
            "Wedemark        0.001040\n",
            "Name: City, Length: 560, dtype: float64\n"
          ]
        }
      ]
    },
    {
      "cell_type": "code",
      "source": [
        "print('Ratio of the values of City for non customers:\\n') \n",
        "print(noncustomer_dt['City'].value_counts(normalize=True))"
      ],
      "metadata": {
        "id": "UejGdusXwVv4",
        "colab": {
          "base_uri": "https://localhost:8080/"
        },
        "outputId": "65a1861c-e86c-4568-82b9-70019c3ec004"
      },
      "execution_count": 22,
      "outputs": [
        {
          "output_type": "stream",
          "name": "stdout",
          "text": [
            "Ratio of the values of City for non customers:\n",
            "\n",
            "Köln           0.016175\n",
            "Bremen         0.010033\n",
            "Stuttgart      0.009828\n",
            "Dortmund       0.009419\n",
            "Dresden        0.009419\n",
            "                 ...   \n",
            "Memmelsdorf    0.000205\n",
            "Bad Wimpfen    0.000205\n",
            "Willstätt      0.000205\n",
            "Lollar         0.000205\n",
            "Solms          0.000205\n",
            "Name: City, Length: 2130, dtype: float64\n"
          ]
        }
      ]
    },
    {
      "cell_type": "code",
      "execution_count": 23,
      "metadata": {
        "id": "d3cN00r-KLhz"
      },
      "outputs": [],
      "source": [
        "City_Categ=customer_dt['City'].append(noncustomer_dt['City'])"
      ]
    },
    {
      "cell_type": "code",
      "execution_count": 24,
      "metadata": {
        "id": "9fKR-_uXKLh2"
      },
      "outputs": [],
      "source": [
        "city_encoder=LabelEncoder()\n",
        "city_encoder.fit(City_Categ.values)\n",
        "customer_dt['City_coded']=city_encoder.transform(customer_dt['City'].values)\n",
        "noncustomer_dt['City_coded']=city_encoder.transform(noncustomer_dt['City'].values)"
      ]
    },
    {
      "cell_type": "code",
      "execution_count": 25,
      "metadata": {
        "id": "azGmQ302KLh4",
        "colab": {
          "base_uri": "https://localhost:8080/",
          "height": 206
        },
        "outputId": "065e2328-fb89-491f-d857-c82a222743ee"
      },
      "outputs": [
        {
          "output_type": "execute_result",
          "data": {
            "text/plain": [
              "        City  Customer_Flag     Revenue  Sector  Legal_Form_Code  \\\n",
              "0       Haar              1   4000000.0    42.0             14.0   \n",
              "1    Greding              1  11780000.0    74.0              4.0   \n",
              "2      Dörth              1   2050000.0    43.0             14.0   \n",
              "3  Frankfurt              1    853500.0    63.0             14.0   \n",
              "4  Benningen              1  10680000.0    74.0              4.0   \n",
              "\n",
              "   CNT_EMPLOYEE  CNT_CB_DENSITY  CNT_CB_MOB_DENSITY  CNT_CB_FN_DENSITY  \\\n",
              "0            17           891.0               867.0               62.0   \n",
              "1            53             7.0                 7.0                0.0   \n",
              "2            16            30.0                30.0                1.0   \n",
              "3            14           870.0               842.0               77.0   \n",
              "4            17           319.0               317.0               10.0   \n",
              "\n",
              "   Mobile_potential  City_coded  \n",
              "0       1846.104451         787  \n",
              "1       2083.941040         725  \n",
              "2       2209.827333         444  \n",
              "3       2401.464693         594  \n",
              "4       2579.765989         206  "
            ],
            "text/html": [
              "\n",
              "  <div id=\"df-fd92bc9b-4da7-44cd-a57d-d1b1d984075c\">\n",
              "    <div class=\"colab-df-container\">\n",
              "      <div>\n",
              "<style scoped>\n",
              "    .dataframe tbody tr th:only-of-type {\n",
              "        vertical-align: middle;\n",
              "    }\n",
              "\n",
              "    .dataframe tbody tr th {\n",
              "        vertical-align: top;\n",
              "    }\n",
              "\n",
              "    .dataframe thead th {\n",
              "        text-align: right;\n",
              "    }\n",
              "</style>\n",
              "<table border=\"1\" class=\"dataframe\">\n",
              "  <thead>\n",
              "    <tr style=\"text-align: right;\">\n",
              "      <th></th>\n",
              "      <th>City</th>\n",
              "      <th>Customer_Flag</th>\n",
              "      <th>Revenue</th>\n",
              "      <th>Sector</th>\n",
              "      <th>Legal_Form_Code</th>\n",
              "      <th>CNT_EMPLOYEE</th>\n",
              "      <th>CNT_CB_DENSITY</th>\n",
              "      <th>CNT_CB_MOB_DENSITY</th>\n",
              "      <th>CNT_CB_FN_DENSITY</th>\n",
              "      <th>Mobile_potential</th>\n",
              "      <th>City_coded</th>\n",
              "    </tr>\n",
              "  </thead>\n",
              "  <tbody>\n",
              "    <tr>\n",
              "      <th>0</th>\n",
              "      <td>Haar</td>\n",
              "      <td>1</td>\n",
              "      <td>4000000.0</td>\n",
              "      <td>42.0</td>\n",
              "      <td>14.0</td>\n",
              "      <td>17</td>\n",
              "      <td>891.0</td>\n",
              "      <td>867.0</td>\n",
              "      <td>62.0</td>\n",
              "      <td>1846.104451</td>\n",
              "      <td>787</td>\n",
              "    </tr>\n",
              "    <tr>\n",
              "      <th>1</th>\n",
              "      <td>Greding</td>\n",
              "      <td>1</td>\n",
              "      <td>11780000.0</td>\n",
              "      <td>74.0</td>\n",
              "      <td>4.0</td>\n",
              "      <td>53</td>\n",
              "      <td>7.0</td>\n",
              "      <td>7.0</td>\n",
              "      <td>0.0</td>\n",
              "      <td>2083.941040</td>\n",
              "      <td>725</td>\n",
              "    </tr>\n",
              "    <tr>\n",
              "      <th>2</th>\n",
              "      <td>Dörth</td>\n",
              "      <td>1</td>\n",
              "      <td>2050000.0</td>\n",
              "      <td>43.0</td>\n",
              "      <td>14.0</td>\n",
              "      <td>16</td>\n",
              "      <td>30.0</td>\n",
              "      <td>30.0</td>\n",
              "      <td>1.0</td>\n",
              "      <td>2209.827333</td>\n",
              "      <td>444</td>\n",
              "    </tr>\n",
              "    <tr>\n",
              "      <th>3</th>\n",
              "      <td>Frankfurt</td>\n",
              "      <td>1</td>\n",
              "      <td>853500.0</td>\n",
              "      <td>63.0</td>\n",
              "      <td>14.0</td>\n",
              "      <td>14</td>\n",
              "      <td>870.0</td>\n",
              "      <td>842.0</td>\n",
              "      <td>77.0</td>\n",
              "      <td>2401.464693</td>\n",
              "      <td>594</td>\n",
              "    </tr>\n",
              "    <tr>\n",
              "      <th>4</th>\n",
              "      <td>Benningen</td>\n",
              "      <td>1</td>\n",
              "      <td>10680000.0</td>\n",
              "      <td>74.0</td>\n",
              "      <td>4.0</td>\n",
              "      <td>17</td>\n",
              "      <td>319.0</td>\n",
              "      <td>317.0</td>\n",
              "      <td>10.0</td>\n",
              "      <td>2579.765989</td>\n",
              "      <td>206</td>\n",
              "    </tr>\n",
              "  </tbody>\n",
              "</table>\n",
              "</div>\n",
              "      <button class=\"colab-df-convert\" onclick=\"convertToInteractive('df-fd92bc9b-4da7-44cd-a57d-d1b1d984075c')\"\n",
              "              title=\"Convert this dataframe to an interactive table.\"\n",
              "              style=\"display:none;\">\n",
              "        \n",
              "  <svg xmlns=\"http://www.w3.org/2000/svg\" height=\"24px\"viewBox=\"0 0 24 24\"\n",
              "       width=\"24px\">\n",
              "    <path d=\"M0 0h24v24H0V0z\" fill=\"none\"/>\n",
              "    <path d=\"M18.56 5.44l.94 2.06.94-2.06 2.06-.94-2.06-.94-.94-2.06-.94 2.06-2.06.94zm-11 1L8.5 8.5l.94-2.06 2.06-.94-2.06-.94L8.5 2.5l-.94 2.06-2.06.94zm10 10l.94 2.06.94-2.06 2.06-.94-2.06-.94-.94-2.06-.94 2.06-2.06.94z\"/><path d=\"M17.41 7.96l-1.37-1.37c-.4-.4-.92-.59-1.43-.59-.52 0-1.04.2-1.43.59L10.3 9.45l-7.72 7.72c-.78.78-.78 2.05 0 2.83L4 21.41c.39.39.9.59 1.41.59.51 0 1.02-.2 1.41-.59l7.78-7.78 2.81-2.81c.8-.78.8-2.07 0-2.86zM5.41 20L4 18.59l7.72-7.72 1.47 1.35L5.41 20z\"/>\n",
              "  </svg>\n",
              "      </button>\n",
              "      \n",
              "  <style>\n",
              "    .colab-df-container {\n",
              "      display:flex;\n",
              "      flex-wrap:wrap;\n",
              "      gap: 12px;\n",
              "    }\n",
              "\n",
              "    .colab-df-convert {\n",
              "      background-color: #E8F0FE;\n",
              "      border: none;\n",
              "      border-radius: 50%;\n",
              "      cursor: pointer;\n",
              "      display: none;\n",
              "      fill: #1967D2;\n",
              "      height: 32px;\n",
              "      padding: 0 0 0 0;\n",
              "      width: 32px;\n",
              "    }\n",
              "\n",
              "    .colab-df-convert:hover {\n",
              "      background-color: #E2EBFA;\n",
              "      box-shadow: 0px 1px 2px rgba(60, 64, 67, 0.3), 0px 1px 3px 1px rgba(60, 64, 67, 0.15);\n",
              "      fill: #174EA6;\n",
              "    }\n",
              "\n",
              "    [theme=dark] .colab-df-convert {\n",
              "      background-color: #3B4455;\n",
              "      fill: #D2E3FC;\n",
              "    }\n",
              "\n",
              "    [theme=dark] .colab-df-convert:hover {\n",
              "      background-color: #434B5C;\n",
              "      box-shadow: 0px 1px 3px 1px rgba(0, 0, 0, 0.15);\n",
              "      filter: drop-shadow(0px 1px 2px rgba(0, 0, 0, 0.3));\n",
              "      fill: #FFFFFF;\n",
              "    }\n",
              "  </style>\n",
              "\n",
              "      <script>\n",
              "        const buttonEl =\n",
              "          document.querySelector('#df-fd92bc9b-4da7-44cd-a57d-d1b1d984075c button.colab-df-convert');\n",
              "        buttonEl.style.display =\n",
              "          google.colab.kernel.accessAllowed ? 'block' : 'none';\n",
              "\n",
              "        async function convertToInteractive(key) {\n",
              "          const element = document.querySelector('#df-fd92bc9b-4da7-44cd-a57d-d1b1d984075c');\n",
              "          const dataTable =\n",
              "            await google.colab.kernel.invokeFunction('convertToInteractive',\n",
              "                                                     [key], {});\n",
              "          if (!dataTable) return;\n",
              "\n",
              "          const docLinkHtml = 'Like what you see? Visit the ' +\n",
              "            '<a target=\"_blank\" href=https://colab.research.google.com/notebooks/data_table.ipynb>data table notebook</a>'\n",
              "            + ' to learn more about interactive tables.';\n",
              "          element.innerHTML = '';\n",
              "          dataTable['output_type'] = 'display_data';\n",
              "          await google.colab.output.renderOutput(dataTable, element);\n",
              "          const docLink = document.createElement('div');\n",
              "          docLink.innerHTML = docLinkHtml;\n",
              "          element.appendChild(docLink);\n",
              "        }\n",
              "      </script>\n",
              "    </div>\n",
              "  </div>\n",
              "  "
            ]
          },
          "metadata": {},
          "execution_count": 25
        }
      ],
      "source": [
        "customer_dt.head()"
      ]
    },
    {
      "cell_type": "markdown",
      "metadata": {
        "id": "i5BjRBWgKLh7"
      },
      "source": [
        "[**EX5**] [**CODE**] Finally before entering in the training stage,  let's create a `final_dataset` that is the result of stacking `customer_dt`and `noncustomer_dt`considering the following variables: `City_coded`, `Revenue`, `Sector`, `Legal_Form_Code`, `CNT_EMPLOYEE`, `CNT_CB_DENSITY`, `CNT_CB_MOB_DENSITY`, `CNT_CB_FN_DENSITY`and `Mobile_potential`. The 'final_dataset' should include a new variable, `Target`, that takes value **0** for noncustomers and **1** for customers registers. The `Target` will distiguish the two classes to train the model."
      ]
    },
    {
      "cell_type": "markdown",
      "metadata": {
        "id": "yKmKSuHlKLh-"
      },
      "source": [
        "The output should look like this:"
      ]
    },
    {
      "cell_type": "code",
      "source": [
        "customer_dt['Target'] = 1\n",
        "noncustomer_dt['Target'] = 0\n",
        "\n",
        "final_dataset = customer_dt.append(noncustomer_dt).reset_index().drop('index', axis=1)\n",
        "final_subset = ['City_coded', 'Revenue', 'Sector', 'Legal_Form_Code', 'CNT_EMPLOYEE', 'CNT_CB_DENSITY', 'CNT_CB_MOB_DENSITY', 'CNT_CB_FN_DENSITY', 'Mobile_potential', 'Target']\n",
        "final_dataset = final_dataset.loc[:,final_subset]\n"
      ],
      "metadata": {
        "id": "u8rzAd1QxRvo"
      },
      "execution_count": 26,
      "outputs": []
    },
    {
      "cell_type": "code",
      "execution_count": 27,
      "metadata": {
        "id": "m4o5gxjCKLh_",
        "colab": {
          "base_uri": "https://localhost:8080/",
          "height": 206
        },
        "outputId": "58645f11-4cf7-4e6d-f8bf-368c40b7ceca"
      },
      "outputs": [
        {
          "output_type": "execute_result",
          "data": {
            "text/plain": [
              "   City_coded     Revenue  Sector  Legal_Form_Code  CNT_EMPLOYEE  \\\n",
              "0         787   4000000.0    42.0             14.0            17   \n",
              "1         725  11780000.0    74.0              4.0            53   \n",
              "2         444   2050000.0    43.0             14.0            16   \n",
              "3         594    853500.0    63.0             14.0            14   \n",
              "4         206  10680000.0    74.0              4.0            17   \n",
              "\n",
              "   CNT_CB_DENSITY  CNT_CB_MOB_DENSITY  CNT_CB_FN_DENSITY  Mobile_potential  \\\n",
              "0           891.0               867.0               62.0       1846.104451   \n",
              "1             7.0                 7.0                0.0       2083.941040   \n",
              "2            30.0                30.0                1.0       2209.827333   \n",
              "3           870.0               842.0               77.0       2401.464693   \n",
              "4           319.0               317.0               10.0       2579.765989   \n",
              "\n",
              "   Target  \n",
              "0       1  \n",
              "1       1  \n",
              "2       1  \n",
              "3       1  \n",
              "4       1  "
            ],
            "text/html": [
              "\n",
              "  <div id=\"df-c560e776-fdf7-4428-a681-a4664b083294\">\n",
              "    <div class=\"colab-df-container\">\n",
              "      <div>\n",
              "<style scoped>\n",
              "    .dataframe tbody tr th:only-of-type {\n",
              "        vertical-align: middle;\n",
              "    }\n",
              "\n",
              "    .dataframe tbody tr th {\n",
              "        vertical-align: top;\n",
              "    }\n",
              "\n",
              "    .dataframe thead th {\n",
              "        text-align: right;\n",
              "    }\n",
              "</style>\n",
              "<table border=\"1\" class=\"dataframe\">\n",
              "  <thead>\n",
              "    <tr style=\"text-align: right;\">\n",
              "      <th></th>\n",
              "      <th>City_coded</th>\n",
              "      <th>Revenue</th>\n",
              "      <th>Sector</th>\n",
              "      <th>Legal_Form_Code</th>\n",
              "      <th>CNT_EMPLOYEE</th>\n",
              "      <th>CNT_CB_DENSITY</th>\n",
              "      <th>CNT_CB_MOB_DENSITY</th>\n",
              "      <th>CNT_CB_FN_DENSITY</th>\n",
              "      <th>Mobile_potential</th>\n",
              "      <th>Target</th>\n",
              "    </tr>\n",
              "  </thead>\n",
              "  <tbody>\n",
              "    <tr>\n",
              "      <th>0</th>\n",
              "      <td>787</td>\n",
              "      <td>4000000.0</td>\n",
              "      <td>42.0</td>\n",
              "      <td>14.0</td>\n",
              "      <td>17</td>\n",
              "      <td>891.0</td>\n",
              "      <td>867.0</td>\n",
              "      <td>62.0</td>\n",
              "      <td>1846.104451</td>\n",
              "      <td>1</td>\n",
              "    </tr>\n",
              "    <tr>\n",
              "      <th>1</th>\n",
              "      <td>725</td>\n",
              "      <td>11780000.0</td>\n",
              "      <td>74.0</td>\n",
              "      <td>4.0</td>\n",
              "      <td>53</td>\n",
              "      <td>7.0</td>\n",
              "      <td>7.0</td>\n",
              "      <td>0.0</td>\n",
              "      <td>2083.941040</td>\n",
              "      <td>1</td>\n",
              "    </tr>\n",
              "    <tr>\n",
              "      <th>2</th>\n",
              "      <td>444</td>\n",
              "      <td>2050000.0</td>\n",
              "      <td>43.0</td>\n",
              "      <td>14.0</td>\n",
              "      <td>16</td>\n",
              "      <td>30.0</td>\n",
              "      <td>30.0</td>\n",
              "      <td>1.0</td>\n",
              "      <td>2209.827333</td>\n",
              "      <td>1</td>\n",
              "    </tr>\n",
              "    <tr>\n",
              "      <th>3</th>\n",
              "      <td>594</td>\n",
              "      <td>853500.0</td>\n",
              "      <td>63.0</td>\n",
              "      <td>14.0</td>\n",
              "      <td>14</td>\n",
              "      <td>870.0</td>\n",
              "      <td>842.0</td>\n",
              "      <td>77.0</td>\n",
              "      <td>2401.464693</td>\n",
              "      <td>1</td>\n",
              "    </tr>\n",
              "    <tr>\n",
              "      <th>4</th>\n",
              "      <td>206</td>\n",
              "      <td>10680000.0</td>\n",
              "      <td>74.0</td>\n",
              "      <td>4.0</td>\n",
              "      <td>17</td>\n",
              "      <td>319.0</td>\n",
              "      <td>317.0</td>\n",
              "      <td>10.0</td>\n",
              "      <td>2579.765989</td>\n",
              "      <td>1</td>\n",
              "    </tr>\n",
              "  </tbody>\n",
              "</table>\n",
              "</div>\n",
              "      <button class=\"colab-df-convert\" onclick=\"convertToInteractive('df-c560e776-fdf7-4428-a681-a4664b083294')\"\n",
              "              title=\"Convert this dataframe to an interactive table.\"\n",
              "              style=\"display:none;\">\n",
              "        \n",
              "  <svg xmlns=\"http://www.w3.org/2000/svg\" height=\"24px\"viewBox=\"0 0 24 24\"\n",
              "       width=\"24px\">\n",
              "    <path d=\"M0 0h24v24H0V0z\" fill=\"none\"/>\n",
              "    <path d=\"M18.56 5.44l.94 2.06.94-2.06 2.06-.94-2.06-.94-.94-2.06-.94 2.06-2.06.94zm-11 1L8.5 8.5l.94-2.06 2.06-.94-2.06-.94L8.5 2.5l-.94 2.06-2.06.94zm10 10l.94 2.06.94-2.06 2.06-.94-2.06-.94-.94-2.06-.94 2.06-2.06.94z\"/><path d=\"M17.41 7.96l-1.37-1.37c-.4-.4-.92-.59-1.43-.59-.52 0-1.04.2-1.43.59L10.3 9.45l-7.72 7.72c-.78.78-.78 2.05 0 2.83L4 21.41c.39.39.9.59 1.41.59.51 0 1.02-.2 1.41-.59l7.78-7.78 2.81-2.81c.8-.78.8-2.07 0-2.86zM5.41 20L4 18.59l7.72-7.72 1.47 1.35L5.41 20z\"/>\n",
              "  </svg>\n",
              "      </button>\n",
              "      \n",
              "  <style>\n",
              "    .colab-df-container {\n",
              "      display:flex;\n",
              "      flex-wrap:wrap;\n",
              "      gap: 12px;\n",
              "    }\n",
              "\n",
              "    .colab-df-convert {\n",
              "      background-color: #E8F0FE;\n",
              "      border: none;\n",
              "      border-radius: 50%;\n",
              "      cursor: pointer;\n",
              "      display: none;\n",
              "      fill: #1967D2;\n",
              "      height: 32px;\n",
              "      padding: 0 0 0 0;\n",
              "      width: 32px;\n",
              "    }\n",
              "\n",
              "    .colab-df-convert:hover {\n",
              "      background-color: #E2EBFA;\n",
              "      box-shadow: 0px 1px 2px rgba(60, 64, 67, 0.3), 0px 1px 3px 1px rgba(60, 64, 67, 0.15);\n",
              "      fill: #174EA6;\n",
              "    }\n",
              "\n",
              "    [theme=dark] .colab-df-convert {\n",
              "      background-color: #3B4455;\n",
              "      fill: #D2E3FC;\n",
              "    }\n",
              "\n",
              "    [theme=dark] .colab-df-convert:hover {\n",
              "      background-color: #434B5C;\n",
              "      box-shadow: 0px 1px 3px 1px rgba(0, 0, 0, 0.15);\n",
              "      filter: drop-shadow(0px 1px 2px rgba(0, 0, 0, 0.3));\n",
              "      fill: #FFFFFF;\n",
              "    }\n",
              "  </style>\n",
              "\n",
              "      <script>\n",
              "        const buttonEl =\n",
              "          document.querySelector('#df-c560e776-fdf7-4428-a681-a4664b083294 button.colab-df-convert');\n",
              "        buttonEl.style.display =\n",
              "          google.colab.kernel.accessAllowed ? 'block' : 'none';\n",
              "\n",
              "        async function convertToInteractive(key) {\n",
              "          const element = document.querySelector('#df-c560e776-fdf7-4428-a681-a4664b083294');\n",
              "          const dataTable =\n",
              "            await google.colab.kernel.invokeFunction('convertToInteractive',\n",
              "                                                     [key], {});\n",
              "          if (!dataTable) return;\n",
              "\n",
              "          const docLinkHtml = 'Like what you see? Visit the ' +\n",
              "            '<a target=\"_blank\" href=https://colab.research.google.com/notebooks/data_table.ipynb>data table notebook</a>'\n",
              "            + ' to learn more about interactive tables.';\n",
              "          element.innerHTML = '';\n",
              "          dataTable['output_type'] = 'display_data';\n",
              "          await google.colab.output.renderOutput(dataTable, element);\n",
              "          const docLink = document.createElement('div');\n",
              "          docLink.innerHTML = docLinkHtml;\n",
              "          element.appendChild(docLink);\n",
              "        }\n",
              "      </script>\n",
              "    </div>\n",
              "  </div>\n",
              "  "
            ]
          },
          "metadata": {},
          "execution_count": 27
        }
      ],
      "source": [
        "final_dataset.head()"
      ]
    },
    {
      "cell_type": "code",
      "execution_count": 28,
      "metadata": {
        "id": "zcWcoMGbKLiB",
        "colab": {
          "base_uri": "https://localhost:8080/",
          "height": 206
        },
        "outputId": "78626f46-27c2-4b14-f6c0-8af53e3c1b4a"
      },
      "outputs": [
        {
          "output_type": "execute_result",
          "data": {
            "text/plain": [
              "      City_coded    Revenue  Sector  Legal_Form_Code  CNT_EMPLOYEE  \\\n",
              "5841         736  6391606.0    60.0             20.0            24   \n",
              "5842        1873   305000.0    60.0              4.0            13   \n",
              "5843         598  4200000.0    23.0             14.0            54   \n",
              "5844        1919  1336495.0    60.0             16.0            20   \n",
              "5845         984  4593054.0    64.0             14.0            44   \n",
              "\n",
              "      CNT_CB_DENSITY  CNT_CB_MOB_DENSITY  CNT_CB_FN_DENSITY  Mobile_potential  \\\n",
              "5841            57.0                57.0                0.0       2102.700888   \n",
              "5842             9.0                 9.0                0.0       1548.889725   \n",
              "5843            62.0                62.0                6.0       2388.407248   \n",
              "5844            63.0                61.0                2.0       2657.602909   \n",
              "5845            90.0                90.0                5.0       2126.540797   \n",
              "\n",
              "      Target  \n",
              "5841       0  \n",
              "5842       0  \n",
              "5843       0  \n",
              "5844       0  \n",
              "5845       0  "
            ],
            "text/html": [
              "\n",
              "  <div id=\"df-dc0b8616-31c1-43b2-8d7e-606f12b69f03\">\n",
              "    <div class=\"colab-df-container\">\n",
              "      <div>\n",
              "<style scoped>\n",
              "    .dataframe tbody tr th:only-of-type {\n",
              "        vertical-align: middle;\n",
              "    }\n",
              "\n",
              "    .dataframe tbody tr th {\n",
              "        vertical-align: top;\n",
              "    }\n",
              "\n",
              "    .dataframe thead th {\n",
              "        text-align: right;\n",
              "    }\n",
              "</style>\n",
              "<table border=\"1\" class=\"dataframe\">\n",
              "  <thead>\n",
              "    <tr style=\"text-align: right;\">\n",
              "      <th></th>\n",
              "      <th>City_coded</th>\n",
              "      <th>Revenue</th>\n",
              "      <th>Sector</th>\n",
              "      <th>Legal_Form_Code</th>\n",
              "      <th>CNT_EMPLOYEE</th>\n",
              "      <th>CNT_CB_DENSITY</th>\n",
              "      <th>CNT_CB_MOB_DENSITY</th>\n",
              "      <th>CNT_CB_FN_DENSITY</th>\n",
              "      <th>Mobile_potential</th>\n",
              "      <th>Target</th>\n",
              "    </tr>\n",
              "  </thead>\n",
              "  <tbody>\n",
              "    <tr>\n",
              "      <th>5841</th>\n",
              "      <td>736</td>\n",
              "      <td>6391606.0</td>\n",
              "      <td>60.0</td>\n",
              "      <td>20.0</td>\n",
              "      <td>24</td>\n",
              "      <td>57.0</td>\n",
              "      <td>57.0</td>\n",
              "      <td>0.0</td>\n",
              "      <td>2102.700888</td>\n",
              "      <td>0</td>\n",
              "    </tr>\n",
              "    <tr>\n",
              "      <th>5842</th>\n",
              "      <td>1873</td>\n",
              "      <td>305000.0</td>\n",
              "      <td>60.0</td>\n",
              "      <td>4.0</td>\n",
              "      <td>13</td>\n",
              "      <td>9.0</td>\n",
              "      <td>9.0</td>\n",
              "      <td>0.0</td>\n",
              "      <td>1548.889725</td>\n",
              "      <td>0</td>\n",
              "    </tr>\n",
              "    <tr>\n",
              "      <th>5843</th>\n",
              "      <td>598</td>\n",
              "      <td>4200000.0</td>\n",
              "      <td>23.0</td>\n",
              "      <td>14.0</td>\n",
              "      <td>54</td>\n",
              "      <td>62.0</td>\n",
              "      <td>62.0</td>\n",
              "      <td>6.0</td>\n",
              "      <td>2388.407248</td>\n",
              "      <td>0</td>\n",
              "    </tr>\n",
              "    <tr>\n",
              "      <th>5844</th>\n",
              "      <td>1919</td>\n",
              "      <td>1336495.0</td>\n",
              "      <td>60.0</td>\n",
              "      <td>16.0</td>\n",
              "      <td>20</td>\n",
              "      <td>63.0</td>\n",
              "      <td>61.0</td>\n",
              "      <td>2.0</td>\n",
              "      <td>2657.602909</td>\n",
              "      <td>0</td>\n",
              "    </tr>\n",
              "    <tr>\n",
              "      <th>5845</th>\n",
              "      <td>984</td>\n",
              "      <td>4593054.0</td>\n",
              "      <td>64.0</td>\n",
              "      <td>14.0</td>\n",
              "      <td>44</td>\n",
              "      <td>90.0</td>\n",
              "      <td>90.0</td>\n",
              "      <td>5.0</td>\n",
              "      <td>2126.540797</td>\n",
              "      <td>0</td>\n",
              "    </tr>\n",
              "  </tbody>\n",
              "</table>\n",
              "</div>\n",
              "      <button class=\"colab-df-convert\" onclick=\"convertToInteractive('df-dc0b8616-31c1-43b2-8d7e-606f12b69f03')\"\n",
              "              title=\"Convert this dataframe to an interactive table.\"\n",
              "              style=\"display:none;\">\n",
              "        \n",
              "  <svg xmlns=\"http://www.w3.org/2000/svg\" height=\"24px\"viewBox=\"0 0 24 24\"\n",
              "       width=\"24px\">\n",
              "    <path d=\"M0 0h24v24H0V0z\" fill=\"none\"/>\n",
              "    <path d=\"M18.56 5.44l.94 2.06.94-2.06 2.06-.94-2.06-.94-.94-2.06-.94 2.06-2.06.94zm-11 1L8.5 8.5l.94-2.06 2.06-.94-2.06-.94L8.5 2.5l-.94 2.06-2.06.94zm10 10l.94 2.06.94-2.06 2.06-.94-2.06-.94-.94-2.06-.94 2.06-2.06.94z\"/><path d=\"M17.41 7.96l-1.37-1.37c-.4-.4-.92-.59-1.43-.59-.52 0-1.04.2-1.43.59L10.3 9.45l-7.72 7.72c-.78.78-.78 2.05 0 2.83L4 21.41c.39.39.9.59 1.41.59.51 0 1.02-.2 1.41-.59l7.78-7.78 2.81-2.81c.8-.78.8-2.07 0-2.86zM5.41 20L4 18.59l7.72-7.72 1.47 1.35L5.41 20z\"/>\n",
              "  </svg>\n",
              "      </button>\n",
              "      \n",
              "  <style>\n",
              "    .colab-df-container {\n",
              "      display:flex;\n",
              "      flex-wrap:wrap;\n",
              "      gap: 12px;\n",
              "    }\n",
              "\n",
              "    .colab-df-convert {\n",
              "      background-color: #E8F0FE;\n",
              "      border: none;\n",
              "      border-radius: 50%;\n",
              "      cursor: pointer;\n",
              "      display: none;\n",
              "      fill: #1967D2;\n",
              "      height: 32px;\n",
              "      padding: 0 0 0 0;\n",
              "      width: 32px;\n",
              "    }\n",
              "\n",
              "    .colab-df-convert:hover {\n",
              "      background-color: #E2EBFA;\n",
              "      box-shadow: 0px 1px 2px rgba(60, 64, 67, 0.3), 0px 1px 3px 1px rgba(60, 64, 67, 0.15);\n",
              "      fill: #174EA6;\n",
              "    }\n",
              "\n",
              "    [theme=dark] .colab-df-convert {\n",
              "      background-color: #3B4455;\n",
              "      fill: #D2E3FC;\n",
              "    }\n",
              "\n",
              "    [theme=dark] .colab-df-convert:hover {\n",
              "      background-color: #434B5C;\n",
              "      box-shadow: 0px 1px 3px 1px rgba(0, 0, 0, 0.15);\n",
              "      filter: drop-shadow(0px 1px 2px rgba(0, 0, 0, 0.3));\n",
              "      fill: #FFFFFF;\n",
              "    }\n",
              "  </style>\n",
              "\n",
              "      <script>\n",
              "        const buttonEl =\n",
              "          document.querySelector('#df-dc0b8616-31c1-43b2-8d7e-606f12b69f03 button.colab-df-convert');\n",
              "        buttonEl.style.display =\n",
              "          google.colab.kernel.accessAllowed ? 'block' : 'none';\n",
              "\n",
              "        async function convertToInteractive(key) {\n",
              "          const element = document.querySelector('#df-dc0b8616-31c1-43b2-8d7e-606f12b69f03');\n",
              "          const dataTable =\n",
              "            await google.colab.kernel.invokeFunction('convertToInteractive',\n",
              "                                                     [key], {});\n",
              "          if (!dataTable) return;\n",
              "\n",
              "          const docLinkHtml = 'Like what you see? Visit the ' +\n",
              "            '<a target=\"_blank\" href=https://colab.research.google.com/notebooks/data_table.ipynb>data table notebook</a>'\n",
              "            + ' to learn more about interactive tables.';\n",
              "          element.innerHTML = '';\n",
              "          dataTable['output_type'] = 'display_data';\n",
              "          await google.colab.output.renderOutput(dataTable, element);\n",
              "          const docLink = document.createElement('div');\n",
              "          docLink.innerHTML = docLinkHtml;\n",
              "          element.appendChild(docLink);\n",
              "        }\n",
              "      </script>\n",
              "    </div>\n",
              "  </div>\n",
              "  "
            ]
          },
          "metadata": {},
          "execution_count": 28
        }
      ],
      "source": [
        "final_dataset.tail()"
      ]
    },
    {
      "cell_type": "markdown",
      "metadata": {
        "id": "riT4OdRHKLiD"
      },
      "source": [
        "To measure the quality of our classifiers, it is necessary to train and test the models with different datasets. For this objective we will use [train_test_split](https://scikit-learn.org/stable/modules/generated/sklearn.model_selection.train_test_split.html) function to generate 4 new datasets: 2 for training and 2 for test: \n",
        "- `X_train`: contains all variables except `Target` for the 80% of `final_dataset`,\n",
        "- `y_train`: contains `Target`variables for the 80% of `final_dataset`, \n",
        "- `X_test`: contains all variables except `Target` for the 20% of `final_dataset`,\n",
        "- `y_test`: contains `Target`variables for the 20% of `final_dataset`."
      ]
    },
    {
      "cell_type": "code",
      "execution_count": 29,
      "metadata": {
        "id": "53-vr7DKKLiD"
      },
      "outputs": [],
      "source": [
        "X_train, X_test, y_train, y_test= train_test_split (final_dataset.iloc[:,:-1], final_dataset.iloc[:,-1], test_size=0.20, random_state=42) "
      ]
    },
    {
      "cell_type": "markdown",
      "metadata": {
        "id": "n-pLvA3EKLiJ"
      },
      "source": [
        "[**EX6**] [**REPORT**] Calculate the lenght of `X_train` and `X_test` datasets. Is it aligned with the `test_size`value selected in the split?"
      ]
    },
    {
      "cell_type": "code",
      "source": [
        "print(f'The length of X Train is: {len(X_train)}')\n",
        "print(f'And the length of X Test is: {len(X_test)}')"
      ],
      "metadata": {
        "id": "C39_cGgbx7Zj",
        "colab": {
          "base_uri": "https://localhost:8080/"
        },
        "outputId": "cc8b51ad-e322-4621-c388-f7c3791c7db6"
      },
      "execution_count": 30,
      "outputs": [
        {
          "output_type": "stream",
          "name": "stdout",
          "text": [
            "The length of X Train is: 4676\n",
            "And the length of X Test is: 1170\n"
          ]
        }
      ]
    },
    {
      "cell_type": "markdown",
      "metadata": {
        "id": "0Doge9L_KLiM"
      },
      "source": [
        "[**EX7**] [**REPORT**] Draw the histograms of `y_train`and `y_test`. Is the dataset balanced (similar number of rows for each class or Target) or imbalanced ? How do you think it could affect to quality of the classifier?"
      ]
    },
    {
      "cell_type": "code",
      "source": [
        "y_train.hist()\n",
        "y_test.hist()"
      ],
      "metadata": {
        "id": "h5XqnZLLyGlt",
        "outputId": "8f80a62b-d67d-4316-a1d1-a90baa48fe20",
        "colab": {
          "base_uri": "https://localhost:8080/",
          "height": 282
        }
      },
      "execution_count": 31,
      "outputs": [
        {
          "output_type": "execute_result",
          "data": {
            "text/plain": [
              "<matplotlib.axes._subplots.AxesSubplot at 0x7ff26b14b9d0>"
            ]
          },
          "metadata": {},
          "execution_count": 31
        },
        {
          "output_type": "display_data",
          "data": {
            "text/plain": [
              "<Figure size 432x288 with 1 Axes>"
            ],
            "image/png": "[encoded data removed]"
          },
          "metadata": {
            "needs_background": "light"
          }
        }
      ]
    },
    {
      "cell_type": "markdown",
      "metadata": {
        "id": "pVofh0d-KLiT"
      },
      "source": [
        "# 2. Model Training: from baseline models to ensemble¶"
      ]
    },
    {
      "cell_type": "markdown",
      "metadata": {
        "id": "P58EvGU1KLiT"
      },
      "source": [
        "Now we are ready to enter in the training stage of the machine learning models. The common way to procedure is starting with baseline models (i.e. SVM, Decision Trees, Naive Bayes, etc....) and later, try to improve it adjusting hyperparameters of the models or creating more complex models architectures as ensembles."
      ]
    },
    {
      "cell_type": "markdown",
      "metadata": {
        "id": "hKyfjGlmKLiU"
      },
      "source": [
        "## 2.1. Baseline of models: Training and evaluation"
      ]
    },
    {
      "cell_type": "markdown",
      "metadata": {
        "id": "eWN0sijJKLiU"
      },
      "source": [
        "In the following section we are training a SVM, Decision Tree and Naive Bayes algorithms. To do it, we will use the `X_train`and `y_train`datasets.\n",
        "Later on we will evaluate the performance (i.e. **accuracy**, **confusion matrix**, **recall** and **precision**) of each model with the `test`dataset, i.e. `X_test`and `y_test`.\n",
        "\n",
        "\n",
        "Tip 1: You may use [classification_report()](https://scikit-learn.org/stable/modules/generated/sklearn.metrics.classification_report.html) from Sklearn library to calculate the **precision**, **recall** of the model.\n",
        "\n",
        "Tip 2: You may use [confusion_matrix()](https://scikit-learn.org/stable/modules/generated/sklearn.metrics.confusion_matrix.html) from Sklearn library to calculate the confusion matrix of a model.\n",
        "\n",
        "Tip 3: When using Sklearn library, you may use the function **.score(X_test, y_test)** to calculate the accuracy value."
      ]
    },
    {
      "cell_type": "markdown",
      "metadata": {
        "id": "2zQCoC5JKLiV"
      },
      "source": [
        "### Classification with a SVM model"
      ]
    },
    {
      "cell_type": "markdown",
      "metadata": {
        "id": "VnWGf-D6KLiV"
      },
      "source": [
        "[**EX8**] [**CODE**] Train the SVM classifier of the Sklearn library. Evaluate the following metrics for kernel=\"rbf\":\n",
        "- Which is **precision**, **recall** and **accuracy** of the algorithm?\n",
        "- Which is the **confusion matrix**?\n",
        "- Is the algorithm classifying both classes (Target=0 and Target=1) in a similar way? Why?\n",
        "- Compare the **precision** and **recall** of the **training** dataset (i.e.`X_train`and `y_train`) vs the **test** dataset (i.e. `X_test`and `y_test`). Which is better? Why? Which is the correct measure to estimate the performance for other unseen datasets? Why?"
      ]
    },
    {
      "cell_type": "code",
      "source": [
        "def SupportVectorClassifier(X_train, X_test, y_train, y_test):\n",
        "  # Support Vector Classification Model\n",
        "  model_SVC = SVC() #Create the SVC model\n",
        "  model_SVC.fit(X_train, y_train) #Model training with training samples: X_train and y_train\n",
        "\n",
        "  #TRAIN\n",
        "  y_pred_SVC_train = model_SVC.predict(X_train) #Test the trained model with train samples\n",
        "  matrix_SVC_train = confusion_matrix(y_train, y_pred_SVC_train)\n",
        "  accuracy_SVC_train = model_SVC.score(X_train, y_train) #Accuracy of the trained model\n",
        "  report_SVC_train = classification_report(y_train, y_pred_SVC_train)\n",
        "  \n",
        "\n",
        "  #TEST\n",
        "  y_pred_SVC_test = model_SVC.predict(X_test) #Test the trained model with test samples\n",
        "  matrix_SVC_test = confusion_matrix(y_test, y_pred_SVC_test)\n",
        "  result_SVC_test = model_SVC.score(X_test, y_test) #Accuracy of the trained model\n",
        "  report_SVC_test = classification_report(y_test, y_pred_SVC_test)\n",
        "\n",
        "  return matrix_SVC_train, accuracy_SVC_train, report_SVC_train, matrix_SVC_test, result_SVC_test, report_SVC_test"
      ],
      "metadata": {
        "id": "7H2OO2MwOAGu"
      },
      "execution_count": 32,
      "outputs": []
    },
    {
      "cell_type": "code",
      "source": [
        "matrix_SVC_train, accuracy_SVC_train, report_SVC_train, matrix_SVC_test, result_SVC_test, report_SVC_test = SupportVectorClassifier(X_train, X_test, y_train, y_test)\n",
        "\n",
        "# PRINT SUPPORT VECTOR CLASSIFICATION MODEL INFORMATION\n",
        "print('Support Vector Classification')\n",
        "print('Train')\n",
        "print(\"Confusion matrix:\\n\", matrix_SVC_train)\n",
        "print(\"SVC Accuracy:\\n\", accuracy_SVC_train)\n",
        "print(report_SVC_train)\n",
        "print('Test')\n",
        "print(\"Confusion matrix:\\n\", matrix_SVC_test)\n",
        "print(\"SVC Accuracy:\\n\", result_SVC_test)\n",
        "print(report_SVC_test)"
      ],
      "metadata": {
        "colab": {
          "base_uri": "https://localhost:8080/"
        },
        "id": "wdZgEgoZUymB",
        "outputId": "1bdd466b-47e4-43aa-aabf-9b0987fa5039"
      },
      "execution_count": 33,
      "outputs": [
        {
          "output_type": "stream",
          "name": "stdout",
          "text": [
            "Support Vector Classification\n",
            "Train\n",
            "Confusion matrix:\n",
            " [[3921    0]\n",
            " [ 750    5]]\n",
            "SVC Accuracy:\n",
            " 0.839606501283148\n",
            "              precision    recall  f1-score   support\n",
            "\n",
            "           0       0.84      1.00      0.91      3921\n",
            "           1       1.00      0.01      0.01       755\n",
            "\n",
            "    accuracy                           0.84      4676\n",
            "   macro avg       0.92      0.50      0.46      4676\n",
            "weighted avg       0.87      0.84      0.77      4676\n",
            "\n",
            "Test\n",
            "Confusion matrix:\n",
            " [[963   0]\n",
            " [203   4]]\n",
            "SVC Accuracy:\n",
            " 0.8264957264957264\n",
            "              precision    recall  f1-score   support\n",
            "\n",
            "           0       0.83      1.00      0.90       963\n",
            "           1       1.00      0.02      0.04       207\n",
            "\n",
            "    accuracy                           0.83      1170\n",
            "   macro avg       0.91      0.51      0.47      1170\n",
            "weighted avg       0.86      0.83      0.75      1170\n",
            "\n"
          ]
        }
      ]
    },
    {
      "cell_type": "markdown",
      "metadata": {
        "id": "jBTK-h4cKLiY"
      },
      "source": [
        "### Classification with a Decision Tree model"
      ]
    },
    {
      "cell_type": "markdown",
      "metadata": {
        "id": "DMRkY9uvKLiY"
      },
      "source": [
        "[**EX9**] [**CODE**] Train the Decision Tree algorithm from Sklearn library. Evaluate the following metrics:\n",
        "- Which is **precision**, **recall** and **accuracy** of the algorithm?\n",
        "- Which is the **confusion matrix**?\n",
        "- Is Decision Tree algorithm working better than SVM? Why?"
      ]
    },
    {
      "cell_type": "code",
      "source": [
        "def DesicionTreeClassifier(X_train, X_test, y_train, y_test):\n",
        "  # Decission Tree Classifier Model\n",
        "  DT_model = DecisionTreeClassifier()\n",
        "  DT_model.fit(X_train, y_train)\n",
        "\n",
        "  #TRAIN\n",
        "  y_pred_DT_train = DT_model.predict(X_train)\n",
        "  matrix_DT_train = confusion_matrix(y_train, y_pred_DT_train)\n",
        "  accuracy_DT_train = DT_model.score(X_train, y_train)\n",
        "  report_DT_train = classification_report(y_train, y_pred_DT_train)\n",
        "  \n",
        "\n",
        "  #TEST\n",
        "  y_pred_DT_test = DT_model.predict(X_test)\n",
        "  matrix_DT_test = confusion_matrix(y_test, y_pred_DT_test)\n",
        "  accuracy_DT_test = DT_model.score(X_test, y_test)\n",
        "  report_DT_test = classification_report(y_test, y_pred_DT_test)\n",
        "\n",
        "  return matrix_DT_train, accuracy_DT_train, report_DT_train, matrix_DT_test, accuracy_DT_test, report_DT_test"
      ],
      "metadata": {
        "id": "Jv8ZL1b-VeqL"
      },
      "execution_count": 34,
      "outputs": []
    },
    {
      "cell_type": "code",
      "source": [
        "matrix_DT_train, accuracy_DT_train, report_DT_train, matrix_DT, accuracy_DT_test, report_DT_test = DesicionTreeClassifier(X_train, X_test, y_train, y_test)\n",
        "\n",
        "# PRINT DECISSION TREE CLASSIFIER MODEL INFORMATION\n",
        "print('Decission Tree Classifier')\n",
        "print('Train')\n",
        "print(\"Confusion matrix:\\n\", matrix_DT_train)\n",
        "print(\"DT Accuracy:\", accuracy_DT_train)\n",
        "print(report_DT_train)\n",
        "print('Test')\n",
        "print(\"Confusion matrix:\\n\", matrix_DT)\n",
        "print(\"DT Accuracy:\", accuracy_DT_test)\n",
        "print(report_DT_test)"
      ],
      "metadata": {
        "colab": {
          "base_uri": "https://localhost:8080/"
        },
        "id": "_rS7HMLQZCSC",
        "outputId": "9b6451ed-185c-43c0-a2b5-5b11db5defb7"
      },
      "execution_count": 35,
      "outputs": [
        {
          "output_type": "stream",
          "name": "stdout",
          "text": [
            "Decission Tree Classifier\n",
            "Train\n",
            "Confusion matrix:\n",
            " [[3921    0]\n",
            " [   0  755]]\n",
            "DT Accuracy: 1.0\n",
            "              precision    recall  f1-score   support\n",
            "\n",
            "           0       1.00      1.00      1.00      3921\n",
            "           1       1.00      1.00      1.00       755\n",
            "\n",
            "    accuracy                           1.00      4676\n",
            "   macro avg       1.00      1.00      1.00      4676\n",
            "weighted avg       1.00      1.00      1.00      4676\n",
            "\n",
            "Test\n",
            "Confusion matrix:\n",
            " [[812 151]\n",
            " [136  71]]\n",
            "DT Accuracy: 0.7547008547008547\n",
            "              precision    recall  f1-score   support\n",
            "\n",
            "           0       0.86      0.84      0.85       963\n",
            "           1       0.32      0.34      0.33       207\n",
            "\n",
            "    accuracy                           0.75      1170\n",
            "   macro avg       0.59      0.59      0.59      1170\n",
            "weighted avg       0.76      0.75      0.76      1170\n",
            "\n"
          ]
        }
      ]
    },
    {
      "cell_type": "markdown",
      "metadata": {
        "id": "VxSee22YKLiy"
      },
      "source": [
        "### Comparing algorithm consistenly: KFold cross-validation"
      ]
    },
    {
      "cell_type": "markdown",
      "metadata": {
        "id": "K-n_MHhvKLiz"
      },
      "source": [
        "When we are looking for the best algorithm to classify a dataset, it is very useful to compare all of them. Besides, to protect the training from **overfitting** and calculate the performance with less variance than a single train-test split, it is uselful to apply **K-Fold cross-validation**. The way that KFolds works is splitting the dataset into k-parts or **fold** (e.g. k = 3, 5 or k = 10). The algorithm is trained on k − 1 folds with one held back and tested on the held back fold."
      ]
    },
    {
      "cell_type": "markdown",
      "metadata": {
        "id": "23xG-yXNKLiz"
      },
      "source": [
        "[**EX10**] [**CODE**] Train a SVM and Decision Tree algorithms using a KFold cross-validation with **k=5** and calculate the **mean** and **standard deviation** of the **accuracy**. Plot a boxplot of the accuracy for every model. Which is the model with better mean value of the accuracy? Which is the algorithm with less deviation on the accuracy?  \n",
        "\n",
        "Tip 1: You may use [KFold](https://scikit-learn.org/stable/modules/generated/sklearn.model_selection.KFold.html) to apply cross-validation."
      ]
    },
    {
      "cell_type": "markdown",
      "metadata": {
        "id": "_aEAtktzKLi2"
      },
      "source": [
        "The output of the boxplots should look like this:"
      ]
    },
    {
      "cell_type": "code",
      "source": [
        "#Models definition\n",
        "models = []\n",
        "models.append(('SVM', SVC()))\n",
        "models.append(('Decision_trees', DecisionTreeClassifier()))\n",
        "#Evaluate each models\n",
        "results = []\n",
        "names = []\n",
        "scoring_metric = 'accuracy'\n",
        "for name_model, model in models:\n",
        "    kfold = KFold(n_splits=5)\n",
        "    cv_results = cross_val_score(model, X_train, y_train, cv=kfold, scoring = scoring_metric)\n",
        "    results.append(cv_results)\n",
        "    names.append(name_model)\n",
        "    print(f\"Model {name_model} with accuracy (mean): {cv_results.mean()} and accuracy (std): {cv_results.std()}\")"
      ],
      "metadata": {
        "id": "vDkf5H_LWS7Z",
        "colab": {
          "base_uri": "https://localhost:8080/"
        },
        "outputId": "5ddb5b9f-d9e6-4344-d4b5-126857c56ce3"
      },
      "execution_count": 36,
      "outputs": [
        {
          "output_type": "stream",
          "name": "stdout",
          "text": [
            "Model SVM with accuracy (mean): 0.8389702454408337 and accuracy (std): 0.016237870102653162\n",
            "Model Decision_trees with accuracy (mean): 0.76005439005439 and accuracy (std): 0.008149921884979885\n"
          ]
        }
      ]
    },
    {
      "cell_type": "code",
      "execution_count": 37,
      "metadata": {
        "id": "bynq6I3OKLi3",
        "scrolled": true,
        "colab": {
          "base_uri": "https://localhost:8080/",
          "height": 295
        },
        "outputId": "b9de0b1a-a753-4b5f-e652-74f18636cdf6"
      },
      "outputs": [
        {
          "output_type": "display_data",
          "data": {
            "text/plain": [
              "<Figure size 432x288 with 1 Axes>"
            ],
            "image/png": "[encoded data removed]"
          },
          "metadata": {
            "needs_background": "light"
          }
        }
      ],
      "source": [
        "#boxplot for algorithm comparison\n",
        "fig=pyplot.figure()\n",
        "fig.suptitle (\"Algorithm accuracy comparison\")\n",
        "ax=fig.add_subplot(111)\n",
        "pyplot.boxplot(results)\n",
        "ax.set_xticklabels(names)\n",
        "pyplot.show()"
      ]
    },
    {
      "cell_type": "markdown",
      "metadata": {
        "id": "5h_URjohKLi6"
      },
      "source": [
        "## 2.2 Improving the model"
      ]
    },
    {
      "cell_type": "markdown",
      "metadata": {
        "id": "zDgLSJn_KLi7"
      },
      "source": [
        "As we observe from the baseline models, even though the accuracy is over 70% the classifiers don't distinguish properly both classes, i.e. **Target=1** and **Target=0**.  \n",
        "In this scenario, we should apply another strategies to improve the perfomance. There are several options: from adjusting the balance of the classes or doing the fine tuning of the hyperparameters of the models (for instance the type of kernel in SVM or the minimum number of samples per leaf in Decision Tree) to combine differents models to create ensembles.\n",
        "In this section, we will evaluate our classifiers in two ways:\n",
        "- Forcing the balancing of both classes\n",
        "- Building ensembles of models"
      ]
    },
    {
      "cell_type": "markdown",
      "metadata": {
        "id": "0xGX62GJKLi8"
      },
      "source": [
        "### Balancing the dataset"
      ]
    },
    {
      "cell_type": "markdown",
      "metadata": {
        "id": "7HL7D2DvKLi8"
      },
      "source": [
        "Let's check the type of balancing we have in our training and test datasets."
      ]
    },
    {
      "cell_type": "markdown",
      "metadata": {
        "id": "EV6OfIKgKLi9"
      },
      "source": [
        "[**EX11**][**CODE**] Split the previous `final_dataset`in two datasets: `customer_dt` for class 1 and `noncustomer_dt`for class 0. Calculate the number of samples for the **customers** class (i.e. Target=1) and for the **noncustomers** class (i.e. Target=0). Is the `final_dataset`balanced or imbalanced? Explain two options to match both datasets.\n"
      ]
    },
    {
      "cell_type": "code",
      "source": [
        "final_dataset = final_dataset.loc[:,['City_coded', 'Revenue', 'Sector', 'Legal_Form_Code', 'CNT_EMPLOYEE', 'CNT_CB_DENSITY',\n",
        "                            'CNT_CB_MOB_DENSITY', 'CNT_CB_FN_DENSITY', 'Mobile_potential','Target']]\n",
        "customer_dt = final_dataset[final_dataset.Target==1]\n",
        "non_customer_dt = final_dataset[final_dataset.Target==0]\n",
        "\n",
        "print(\"Number of samples customer_dt: \", len(customer_dt))\n",
        "print(\"Number of samples non customer_dt: \", len(non_customer_dt))"
      ],
      "metadata": {
        "id": "LczxtY-sXr3j",
        "colab": {
          "base_uri": "https://localhost:8080/"
        },
        "outputId": "80138280-a14b-420f-8ee6-8560f0ce6fb7"
      },
      "execution_count": 38,
      "outputs": [
        {
          "output_type": "stream",
          "name": "stdout",
          "text": [
            "Number of samples customer_dt:  962\n",
            "Number of samples non customer_dt:  4884\n"
          ]
        }
      ]
    },
    {
      "cell_type": "markdown",
      "metadata": {
        "id": "w9rVOQ5iKLjD"
      },
      "source": [
        "Let's undersample the `noncustomer_dt` to balance both datasets:"
      ]
    },
    {
      "cell_type": "code",
      "execution_count": 39,
      "metadata": {
        "id": "8a9L5o8iKLjE",
        "colab": {
          "base_uri": "https://localhost:8080/"
        },
        "outputId": "a418c104-ce04-4a36-972d-ccdf8ac7ddcd"
      },
      "outputs": [
        {
          "output_type": "stream",
          "name": "stdout",
          "text": [
            "The new number of samples in noncustomer dataset is: 1000\n"
          ]
        }
      ],
      "source": [
        "noncustomer_dt_sample = noncustomer_dt.sample(1000)\n",
        "print(\"The new number of samples in noncustomer dataset is:\", len(noncustomer_dt_sample))"
      ]
    },
    {
      "cell_type": "markdown",
      "metadata": {
        "id": "P2l66X4jKLjG"
      },
      "source": [
        "If we append both datasets, the **customer_dt** and the **noncustomer_dt_sample**, the new `final_dataset`looks like:"
      ]
    },
    {
      "cell_type": "code",
      "execution_count": 40,
      "metadata": {
        "id": "C0WTasz3KLjH",
        "colab": {
          "base_uri": "https://localhost:8080/",
          "height": 282
        },
        "outputId": "2def1964-036d-46ee-ccc8-49f62634b29f"
      },
      "outputs": [
        {
          "output_type": "execute_result",
          "data": {
            "text/plain": [
              "<matplotlib.axes._subplots.AxesSubplot at 0x7ff26b2e54d0>"
            ]
          },
          "metadata": {},
          "execution_count": 40
        },
        {
          "output_type": "display_data",
          "data": {
            "text/plain": [
              "<Figure size 432x288 with 1 Axes>"
            ],
            "image/png": "[encoded data removed]"
          },
          "metadata": {
            "needs_background": "light"
          }
        }
      ],
      "source": [
        "final_dataset=customer_dt.append(noncustomer_dt_sample).reset_index().drop('index', axis=1)\n",
        "final_dataset=final_dataset.loc[:,['City_coded', 'Revenue', 'Sector', 'Legal_Form_Code', 'CNT_EMPLOYEE', 'CNT_CB_DENSITY',\n",
        "                            'CNT_CB_MOB_DENSITY', 'CNT_CB_FN_DENSITY', 'Mobile_potential','Target']]\n",
        "final_dataset.Target.hist()"
      ]
    },
    {
      "cell_type": "markdown",
      "metadata": {
        "id": "ZQ0HyRiOKLjJ"
      },
      "source": [
        "[**EX12**][**CODE**][**REPORT**] Train a SVC and Decision Tree algorithm with the new `final_dataset`. Evaluate the **recall**, **precision** and **confusion matrix** of all 3 models.\n",
        "- Which has better accuracy?\n",
        "- Which is the model with better recall? And accuracy?\n",
        "- Which model you recommend to classify both classes? Justify your answer"
      ]
    },
    {
      "cell_type": "code",
      "source": [
        "X_train, X_test, y_train, y_test= train_test_split (final_dataset.iloc[:,:-1], final_dataset.iloc[:,-1], test_size=0.20, random_state=42)"
      ],
      "metadata": {
        "id": "njYIQthwZQrR"
      },
      "execution_count": 41,
      "outputs": []
    },
    {
      "cell_type": "code",
      "source": [
        "matrix_SVC_train, accuracy_SVC_train, report_SVC_train, matrix_SVC_test, result_SVC_test, report_SVC_test = SupportVectorClassifier(X_train, X_test, y_train, y_test)\n",
        "\n",
        "# PRINT SUPPORT VECTOR CLASSIFICATION (WITH BALANCED DATA) MODEL INFORMATION\n",
        "print('Support Vector Classification (Balanced)')\n",
        "print('Train')\n",
        "print(\"Confusion matrix:\\n\", matrix_SVC_train)\n",
        "print(\"SVC Accuracy:\\n\", accuracy_SVC_train)\n",
        "print(report_SVC_train)\n",
        "print('Test')\n",
        "print(\"Confusion matrix:\\n\", matrix_SVC_test)\n",
        "print(\"SVC Accuracy:\\n\", result_SVC_test)\n",
        "print(report_SVC_test)"
      ],
      "metadata": {
        "colab": {
          "base_uri": "https://localhost:8080/"
        },
        "id": "kvgDGwjVdJff",
        "outputId": "36f524d2-ab5c-4520-e5ec-4ce9e9b2a130"
      },
      "execution_count": 42,
      "outputs": [
        {
          "output_type": "stream",
          "name": "stdout",
          "text": [
            "Support Vector Classification (Balanced)\n",
            "Train\n",
            "Confusion matrix:\n",
            " [[501 294]\n",
            " [431 343]]\n",
            "SVC Accuracy:\n",
            " 0.5379222434671765\n",
            "              precision    recall  f1-score   support\n",
            "\n",
            "           0       0.54      0.63      0.58       795\n",
            "           1       0.54      0.44      0.49       774\n",
            "\n",
            "    accuracy                           0.54      1569\n",
            "   macro avg       0.54      0.54      0.53      1569\n",
            "weighted avg       0.54      0.54      0.53      1569\n",
            "\n",
            "Test\n",
            "Confusion matrix:\n",
            " [[135  70]\n",
            " [113  75]]\n",
            "SVC Accuracy:\n",
            " 0.5343511450381679\n",
            "              precision    recall  f1-score   support\n",
            "\n",
            "           0       0.54      0.66      0.60       205\n",
            "           1       0.52      0.40      0.45       188\n",
            "\n",
            "    accuracy                           0.53       393\n",
            "   macro avg       0.53      0.53      0.52       393\n",
            "weighted avg       0.53      0.53      0.53       393\n",
            "\n"
          ]
        }
      ]
    },
    {
      "cell_type": "markdown",
      "metadata": {
        "id": "So2hzc-BKLjU"
      },
      "source": [
        "### Ensembling models"
      ]
    },
    {
      "cell_type": "markdown",
      "metadata": {
        "id": "7GbOE6CMKLjU"
      },
      "source": [
        "Another mechanism to improve the performance of a classifier is to combine several algorithms. The three most popular methods for combining models are:\n",
        "- Bagging combines multiple models that are trained with different subsamples of the training dataset.\n",
        "- Boosting combines multiple models in cascade and each of them learns to fix the prediction errors of the prior model.\n",
        "- Voting combines statistically the output of several models.\n",
        "\n",
        "Usually Bagging and Boosting are formed by models of the same type meanwhile voting could be formed by different models."
      ]
    },
    {
      "cell_type": "markdown",
      "metadata": {
        "id": "NgkK3L4xKLjV"
      },
      "source": [
        "### Voting ensemble"
      ]
    },
    {
      "cell_type": "markdown",
      "metadata": {
        "id": "24SsOU59KLjW"
      },
      "source": [
        "[**EX13**][**CODE**][**REPORT**] Build a **voting** ensemble formed by a SVM and Decision Tree and train it with the balanced training dataset. Calculate the **precision**, **recall** and **confusion matrix** of the new classifier. Is it better than any of the previous baseline models? Justify your answer.\n",
        "\n",
        "Tip: You may use [VotingClassifier()](https://scikit-learn.org/stable/modules/generated/sklearn.ensemble.VotingClassifier.html) to build this type of ensemble."
      ]
    },
    {
      "cell_type": "code",
      "source": [
        "def votingEnsambleSVM_Decision(X_train, X_test, y_train, y_test):\n",
        "  model_SVC = SVC() #Create the model based SVC\n",
        "  model_DT = DecisionTreeClassifier()\n",
        "  votingclass = VotingClassifier(estimators=[('lr', model_SVC), ('rf', model_DT)], voting='hard')\n",
        "  votingclass = votingclass.fit(X_train, y_train)\n",
        "  \n",
        "\n",
        "  #TRAIN\n",
        "  y_pred_train = votingclass.predict(X_train) #Test the trained model with train samples\n",
        "  matrix_train = confusion_matrix(y_train, y_pred_train)\n",
        "  accuracy_train = votingclass.score(X_train, y_train) #Accuracy of the trained model\n",
        "  report_train = classification_report(y_train, y_pred_train)\n",
        "  \n",
        "\n",
        "  #TEST\n",
        "  y_pred_test = votingclass.predict(X_test) #Test the trained model with test samples\n",
        "  matrix_test = confusion_matrix(y_test, y_pred_test)\n",
        "  accuracy_test = votingclass.score(X_test, y_test) #Accuracy of the tested model\n",
        "  report_test = classification_report(y_test, y_pred_test)\n",
        "\n",
        "  return matrix_train, accuracy_train, report_train, matrix_test, accuracy_test, report_test"
      ],
      "metadata": {
        "id": "41McuDTIhorN"
      },
      "execution_count": 43,
      "outputs": []
    },
    {
      "cell_type": "code",
      "source": [
        "matrix_train, accuracy_train, report_train, matrix_test, accuracy_test, report_test = votingEnsambleSVM_Decision(X_train, X_test, y_train, y_test)\n",
        "\n",
        "# PRINT VOTING ENSEMBLE FORMED BY A SVM AND DECISION TREE MODEL INFORMATION\n",
        "print('Voting ensamble')\n",
        "print('Train')\n",
        "print(\"Confusion matrix:\\n\", matrix_train)\n",
        "print(\"Accuracy:\\n\", accuracy_train)\n",
        "print(report_train)\n",
        "print('Test')\n",
        "print(\"Confusion matrix:\\n\", matrix_test)\n",
        "print(\"Accuracy:\\n\", accuracy_test)\n",
        "print(report_test)"
      ],
      "metadata": {
        "colab": {
          "base_uri": "https://localhost:8080/"
        },
        "id": "PnI3ghvbpqVG",
        "outputId": "e11587b4-9e51-43db-f9ad-9c23ec64de57"
      },
      "execution_count": 44,
      "outputs": [
        {
          "output_type": "stream",
          "name": "stdout",
          "text": [
            "Voting ensamble\n",
            "Train\n",
            "Confusion matrix:\n",
            " [[795   0]\n",
            " [431 343]]\n",
            "Accuracy:\n",
            " 0.7253027405991077\n",
            "              precision    recall  f1-score   support\n",
            "\n",
            "           0       0.65      1.00      0.79       795\n",
            "           1       1.00      0.44      0.61       774\n",
            "\n",
            "    accuracy                           0.73      1569\n",
            "   macro avg       0.82      0.72      0.70      1569\n",
            "weighted avg       0.82      0.73      0.70      1569\n",
            "\n",
            "Test\n",
            "Confusion matrix:\n",
            " [[173  32]\n",
            " [144  44]]\n",
            "Accuracy:\n",
            " 0.5521628498727735\n",
            "              precision    recall  f1-score   support\n",
            "\n",
            "           0       0.55      0.84      0.66       205\n",
            "           1       0.58      0.23      0.33       188\n",
            "\n",
            "    accuracy                           0.55       393\n",
            "   macro avg       0.56      0.54      0.50       393\n",
            "weighted avg       0.56      0.55      0.51       393\n",
            "\n"
          ]
        }
      ]
    },
    {
      "cell_type": "markdown",
      "metadata": {
        "id": "ocJiGPkJKLjY"
      },
      "source": [
        "### Bagging ensemble: Random Forest"
      ]
    },
    {
      "cell_type": "markdown",
      "metadata": {
        "id": "LQMj5ap5KLjZ"
      },
      "source": [
        "[**EX14**][**CODE**][**REPORT**] Build a **Bagging** ensemble based on Random Forest. Random Forest is considered a bagging ensemble formed by Decision Trees algorithms. Train the Random Forest with the balanced training dataset, i.e. `X_train` and `y_train`. Calculate the **precision**, **recall** and **confusion matrix** of the new classifier. Is it better than any of the previous baseline models? Justify your answer.\n",
        "\n",
        "Tip: You may use [RandomForestClassifier()](https://scikit-learn.org/stable/modules/generated/sklearn.ensemble.RandomForestClassifier.html) to build this type of ensemble."
      ]
    },
    {
      "cell_type": "code",
      "source": [
        "def RandomForest(X_train, X_test, y_train, y_test):\n",
        "  RFC = RandomForestClassifier()\n",
        "  RFC = RFC.fit(X_train, y_train)\n",
        "  \n",
        "  #TRAIN\n",
        "  y_pred_train = RFC.predict(X_train) #Test the trained model with test samples\n",
        "  matrix_train = confusion_matrix(y_train, y_pred_train)\n",
        "  accuracy_train = RFC.score(X_train, y_train) #Accuracy of the trained model\n",
        "  report_train = classification_report(y_train, y_pred_train)\n",
        "  \n",
        "\n",
        "  #TEST\n",
        "  y_pred_test = RFC.predict(X_test) #Test the trained model with test samples\n",
        "  matrix_test = confusion_matrix(y_test, y_pred_test)\n",
        "  accuracy_test = RFC.score(X_test, y_test) #Print the score of the trained model\n",
        "  report_test = classification_report(y_test, y_pred_test)\n",
        "\n",
        "  return matrix_train, accuracy_train, report_train, matrix_test, accuracy_test, report_test, RFC"
      ],
      "metadata": {
        "id": "eyojQ91srJ3_"
      },
      "execution_count": 45,
      "outputs": []
    },
    {
      "cell_type": "code",
      "source": [
        "matrix_train, accuracy_train, report_train, matrix_test, accuracy_test, report_test, RFC = RandomForest(X_train, X_test, y_train, y_test)\n",
        "\n",
        "# PRINT RANDOM FOREST MODEL INFORMATION\n",
        "print('Bagging ensemble based on Random Forest')\n",
        "print('Train')\n",
        "print(\"Confusion matrix:\\n\", matrix_train)\n",
        "print(\"RFC Accuracy:\\n\", accuracy_train)\n",
        "print(report_train)\n",
        "print('Test')\n",
        "print(\"Confusion matrix:\\n\", matrix_test)\n",
        "print(\"RFC Accuracy:\\n\", accuracy_test)\n",
        "print(report_test)"
      ],
      "metadata": {
        "colab": {
          "base_uri": "https://localhost:8080/"
        },
        "id": "GEMlHmewt3xg",
        "outputId": "dd5a01da-d1c0-453a-fa5d-d2a75f7df810"
      },
      "execution_count": 46,
      "outputs": [
        {
          "output_type": "stream",
          "name": "stdout",
          "text": [
            "Bagging ensemble based on Random Forest\n",
            "Train\n",
            "Confusion matrix:\n",
            " [[795   0]\n",
            " [  0 774]]\n",
            "RFC Accuracy:\n",
            " 1.0\n",
            "              precision    recall  f1-score   support\n",
            "\n",
            "           0       1.00      1.00      1.00       795\n",
            "           1       1.00      1.00      1.00       774\n",
            "\n",
            "    accuracy                           1.00      1569\n",
            "   macro avg       1.00      1.00      1.00      1569\n",
            "weighted avg       1.00      1.00      1.00      1569\n",
            "\n",
            "Test\n",
            "Confusion matrix:\n",
            " [[125  80]\n",
            " [ 78 110]]\n",
            "RFC Accuracy:\n",
            " 0.5979643765903307\n",
            "              precision    recall  f1-score   support\n",
            "\n",
            "           0       0.62      0.61      0.61       205\n",
            "           1       0.58      0.59      0.58       188\n",
            "\n",
            "    accuracy                           0.60       393\n",
            "   macro avg       0.60      0.60      0.60       393\n",
            "weighted avg       0.60      0.60      0.60       393\n",
            "\n"
          ]
        }
      ]
    },
    {
      "cell_type": "markdown",
      "metadata": {
        "id": "4G08f_aEKLjd"
      },
      "source": [
        "[**EX15**][**REPORT**] Plot the histograms of the probabilities resulting of the prediction of the Random Forest model for class 0 and class 1."
      ]
    },
    {
      "cell_type": "code",
      "source": [
        "def PlotProbabilities(model, data, title):\n",
        "  probs = model.predict_proba(data)\n",
        "  fig = pyplot.figure()\n",
        "  fig.suptitle (title)\n",
        "  ax = fig.add_subplot(111)\n",
        "  sns.distplot(probs[:,0])\n",
        "  sns.distplot(probs[:,1])\n",
        "  pyplot.show()\n",
        "\n",
        "PlotProbabilities(RFC, X_test, 'Probabilities RF')"
      ],
      "metadata": {
        "colab": {
          "base_uri": "https://localhost:8080/",
          "height": 383
        },
        "id": "MygUjuMU3jW-",
        "outputId": "6fada967-c3ff-4375-b33b-247570c2a02b"
      },
      "execution_count": 47,
      "outputs": [
        {
          "output_type": "stream",
          "name": "stderr",
          "text": [
            "/usr/local/lib/python3.7/dist-packages/seaborn/distributions.py:2619: FutureWarning: `distplot` is a deprecated function and will be removed in a future version. Please adapt your code to use either `displot` (a figure-level function with similar flexibility) or `histplot` (an axes-level function for histograms).\n",
            "  warnings.warn(msg, FutureWarning)\n",
            "/usr/local/lib/python3.7/dist-packages/seaborn/distributions.py:2619: FutureWarning: `distplot` is a deprecated function and will be removed in a future version. Please adapt your code to use either `displot` (a figure-level function with similar flexibility) or `histplot` (an axes-level function for histograms).\n",
            "  warnings.warn(msg, FutureWarning)\n"
          ]
        },
        {
          "output_type": "display_data",
          "data": {
            "text/plain": [
              "<Figure size 432x288 with 1 Axes>"
            ],
            "image/png": "[encoded data removed]"
          },
          "metadata": {
            "needs_background": "light"
          }
        }
      ]
    },
    {
      "cell_type": "markdown",
      "metadata": {
        "id": "K9Vbyi1lKLjg"
      },
      "source": [
        "### Boosting ensemble: Gradient Tree Boosting"
      ]
    },
    {
      "cell_type": "markdown",
      "metadata": {
        "id": "VTZvSgz8KLji"
      },
      "source": [
        "[**EX16**][**CODE**][**REPORT**] Build a **Boosting** ensemble based on Gradient Tree Boosting (GBT). There are several boosting algorithms as Adaboost, etc.  Train the GBT with the balanced training dataset, i.e. `X_train` and `y_train`. Calculate the **precision**, **recall** and **confusion matrix** of the new classifier. Is it better than any of the previous baseline models? Justify your answer.\n",
        "\n",
        "Tip: You may use [GradientBoostingClassifier](https://scikit-learn.org/stable/modules/generated/sklearn.ensemble.GradientBoostingClassifier.html) to build this type of ensemble."
      ]
    },
    {
      "cell_type": "code",
      "source": [
        "def GradientBoosting(X_train, X_test, y_train, y_test):\n",
        "  GBC = GradientBoostingClassifier()\n",
        "  GBC = RFC.fit(X_train, y_train)\n",
        "  \n",
        "  #TRAIN\n",
        "  y_pred_train = GBC.predict(X_train) #Test the trained model with test samples\n",
        "  matrix_train = confusion_matrix(y_train, y_pred_train)\n",
        "  accuracy_train = GBC.score(X_train, y_train) #Accuracy of the trained model\n",
        "  report_train = classification_report(y_train, y_pred_train)\n",
        "\n",
        "  #TEST\n",
        "  y_pred_test = GBC.predict(X_test) #Test the trained model with test samples\n",
        "  matrix_test = confusion_matrix(y_test, y_pred_test)\n",
        "  accuracy_test = GBC.score(X_test, y_test) #Accuracy of the trained model\n",
        "  report_test = classification_report(y_test, y_pred_test)\n",
        "\n",
        "  return matrix_train, accuracy_train, report_train, matrix_test, accuracy_test, report_test, GBC"
      ],
      "metadata": {
        "id": "LVlCHnh7wYMO"
      },
      "execution_count": 48,
      "outputs": []
    },
    {
      "cell_type": "code",
      "source": [
        "matrix_train, accuracy_train, report_train, matrix_test, accuracy_test, report_test, GBC = GradientBoosting(X_train, X_test, y_train, y_test)\n",
        "\n",
        "# PRINT RANDOM FOREST MODEL INFORMATION\n",
        "print('Boosting ensemble based on Gradient Tree Boosting (GBT)')\n",
        "print('Train')\n",
        "print(\"Confusion matrix:\\n\", matrix_train)\n",
        "print(\"GBC Accuracy:\\n\", accuracy_train)\n",
        "print(report_train)\n",
        "print('Test')\n",
        "print(\"Confusion matrix:\\n\", matrix_test)\n",
        "print(\"GBC Accuracy:\\n\", accuracy_test)\n",
        "print(report_test)\n"
      ],
      "metadata": {
        "colab": {
          "base_uri": "https://localhost:8080/"
        },
        "id": "xEJeGR9txjSL",
        "outputId": "82278c24-320a-4b61-e902-765fd5fe05f0"
      },
      "execution_count": 49,
      "outputs": [
        {
          "output_type": "stream",
          "name": "stdout",
          "text": [
            "Boosting ensemble based on Gradient Tree Boosting (GBT)\n",
            "Train\n",
            "Confusion matrix:\n",
            " [[795   0]\n",
            " [  0 774]]\n",
            "GBC Accuracy:\n",
            " 1.0\n",
            "              precision    recall  f1-score   support\n",
            "\n",
            "           0       1.00      1.00      1.00       795\n",
            "           1       1.00      1.00      1.00       774\n",
            "\n",
            "    accuracy                           1.00      1569\n",
            "   macro avg       1.00      1.00      1.00      1569\n",
            "weighted avg       1.00      1.00      1.00      1569\n",
            "\n",
            "Test\n",
            "Confusion matrix:\n",
            " [[134  71]\n",
            " [ 74 114]]\n",
            "GBC Accuracy:\n",
            " 0.6310432569974554\n",
            "              precision    recall  f1-score   support\n",
            "\n",
            "           0       0.64      0.65      0.65       205\n",
            "           1       0.62      0.61      0.61       188\n",
            "\n",
            "    accuracy                           0.63       393\n",
            "   macro avg       0.63      0.63      0.63       393\n",
            "weighted avg       0.63      0.63      0.63       393\n",
            "\n"
          ]
        }
      ]
    },
    {
      "cell_type": "markdown",
      "metadata": {
        "id": "KLwM8rn_KLjl"
      },
      "source": [
        "[**EX17**][**REPORT**] Plot the histograms of the probabilities resulting of the prediction of the GBT model for class 0 and class 1. Compare it with histogram of Random Forest. Which one classifies better from your point of view? Why? "
      ]
    },
    {
      "cell_type": "code",
      "source": [
        "PlotProbabilities(GBC, X_test, 'Probabilities GBT')"
      ],
      "metadata": {
        "colab": {
          "base_uri": "https://localhost:8080/",
          "height": 383
        },
        "id": "zfMOuaez5qoc",
        "outputId": "af03b33e-190e-4dd6-a130-2bb1b4f046f6"
      },
      "execution_count": 50,
      "outputs": [
        {
          "output_type": "stream",
          "name": "stderr",
          "text": [
            "/usr/local/lib/python3.7/dist-packages/seaborn/distributions.py:2619: FutureWarning: `distplot` is a deprecated function and will be removed in a future version. Please adapt your code to use either `displot` (a figure-level function with similar flexibility) or `histplot` (an axes-level function for histograms).\n",
            "  warnings.warn(msg, FutureWarning)\n",
            "/usr/local/lib/python3.7/dist-packages/seaborn/distributions.py:2619: FutureWarning: `distplot` is a deprecated function and will be removed in a future version. Please adapt your code to use either `displot` (a figure-level function with similar flexibility) or `histplot` (an axes-level function for histograms).\n",
            "  warnings.warn(msg, FutureWarning)\n"
          ]
        },
        {
          "output_type": "display_data",
          "data": {
            "text/plain": [
              "<Figure size 432x288 with 1 Axes>"
            ],
            "image/png": "[encoded data removed]"
          },
          "metadata": {
            "needs_background": "light"
          }
        }
      ]
    },
    {
      "cell_type": "markdown",
      "metadata": {
        "id": "UvbS-zysKLjq"
      },
      "source": [
        "# 3. Creating a Business opportunity with Machine Learning"
      ]
    },
    {
      "cell_type": "markdown",
      "metadata": {
        "id": "oYWmrLYQKLjP"
      },
      "source": [
        "The cut-off is the **threshold of the probability of the prediction** to assign to class 0 or class 1 the prediction. If probability > cut-off, the model classifies as 1; otherwise, model classifies as 0. \n",
        "The cut-off is a value that can be adjusted to increase the recall or the precision. Usually, there is a **trade-off** between improving the recall-precision."
      ]
    },
    {
      "cell_type": "markdown",
      "metadata": {
        "id": "XBhZ9VKgKLjq"
      },
      "source": [
        "[**EX18**][**CODE**][**REPORT**] Execute the prediction for the selected model. Adjust the cutoff value to optimize the classifier if you consider necessary. How many **non customers** are you going to send to the sales managers to sell our products to them?\n",
        "\n",
        "\n"
      ]
    },
    {
      "cell_type": "code",
      "source": [
        "ytest_prediction = GBC.predict(X_test)\n",
        "non_costumers = len(ytest_prediction) - ytest_prediction.sum()\n",
        "print(f'We are you going to send to the sales managers {non_costumers} non costumers to sell our products')"
      ],
      "metadata": {
        "id": "L672lwPIazWO",
        "colab": {
          "base_uri": "https://localhost:8080/"
        },
        "outputId": "9d1c3dd0-03f2-424d-ef2c-6242f41e5bd3"
      },
      "execution_count": 51,
      "outputs": [
        {
          "output_type": "stream",
          "name": "stdout",
          "text": [
            "We are you going to send to the sales managers 208 non costumers to sell our products\n"
          ]
        }
      ]
    },
    {
      "cell_type": "markdown",
      "metadata": {
        "id": "2OKOVuCNKLjt"
      },
      "source": [
        "Usually, Marketing department needs to know and understand the main features of the algorithms. The code below returns the importance of each feature of the `training_dataset`."
      ]
    },
    {
      "cell_type": "code",
      "execution_count": 52,
      "metadata": {
        "id": "nX4VfjM4KLjt"
      },
      "outputs": [],
      "source": [
        "features = ['City_coded','Revenue', 'Sector', 'Legal_Form_Code', 'CNT_EMPLOYEE', 'CNT_CB_DENSITY', 'CNT_CB_MOB_DENSITY', 'CNT_CB_FN_DENS', 'Mobile_potential']\n",
        "features_values = GBC.feature_importances_\n",
        "features_importance = []\n",
        "for feature in range (len(features)):\n",
        "    features_importance.append([features[feature],features_values[feature]])"
      ]
    },
    {
      "cell_type": "markdown",
      "metadata": {
        "id": "3gE_DYCvKLjw"
      },
      "source": [
        "[**EX19**][**CODE**][**REPORT**] Order the features by importance. Which are the top 3 features to discriminate between **non customers** and **customers**?"
      ]
    },
    {
      "cell_type": "code",
      "source": [
        "features_importance.sort(key= lambda e: e[1], reverse= True)\n",
        "for i in features_importance:\n",
        "  print(i)"
      ],
      "metadata": {
        "id": "e8nIeH37bQQ0",
        "colab": {
          "base_uri": "https://localhost:8080/"
        },
        "outputId": "67068554-4a3d-4dca-9bad-379c583b3b31"
      },
      "execution_count": 53,
      "outputs": [
        {
          "output_type": "stream",
          "name": "stdout",
          "text": [
            "['Mobile_potential', 0.16527026014594348]\n",
            "['Revenue', 0.12858962285525025]\n",
            "['City_coded', 0.12083698371985196]\n",
            "['CNT_CB_MOB_DENSITY', 0.11845133753619827]\n",
            "['CNT_CB_DENSITY', 0.11844364911804472]\n",
            "['Sector', 0.1037378389102522]\n",
            "['CNT_CB_FN_DENS', 0.0961975904316288]\n",
            "['CNT_EMPLOYEE', 0.09434712217818034]\n",
            "['Legal_Form_Code', 0.05412559510464998]\n"
          ]
        }
      ]
    },
    {
      "cell_type": "markdown",
      "metadata": {
        "id": "-htmJrDzKLjy"
      },
      "source": [
        "  [**EX20**][**REPORT**] In this project, we have used classification techniques to identify potential customers. We have adjusted the main classification parameters as cutoff, recall and precision according to the final purpose: in out case, identify **non customers** that could be interested to buy our products. Consider a new campaign focused on accelerating the sales of a **New IoT tariff** to our customers. Answer the following questions:\n",
        "- In this case, which is the **target** variable? Which are **target=0** samples? And **target=1**?\n",
        "- As the marketing campaing is oriented to our customers we will have further information about them in our internal systems. In particular, we could add to the information of the previous section 3 new variables: data and voice consumption and mobile expense. Adding more data to the dataset may imply more computational data and cost. Would you add these 3 new variables to dataset? Justify your answer.\n",
        "- Today this New IoT tariff is very popular among our customers. Will the training dataset be balanced or unbalanced? Justify your answer.\n",
        "\n",
        "Imagine the following scatter plot (`Number of IoT devices (units)` vs `Number of IoT applications (units)`):\n",
        "\n",
        "![<scatter_plot>](scatter_plot.png)\n",
        "- Describe in terms of `Number of IoT devices (units)` and `Number of IoT applications (units)` the **pattern** of target 1 customers\n",
        "- Draw a plane to separate both classes\n",
        "- Is the training dataset balanced? Justiy your answer\n",
        "- According to the previous plane, which are the customers to be phoned to sell the New IoT tariff?\n",
        "- Could you estimate the **precision** and **recall** of the classification?"
      ]
    },
    {
      "cell_type": "markdown",
      "metadata": {
        "id": "WqGzZF61KLjy"
      },
      "source": [
        "*******"
      ]
    },
    {
      "cell_type": "markdown",
      "metadata": {
        "id": "d90P5bXGKLjz"
      },
      "source": [
        "# Deliver"
      ]
    },
    {
      "cell_type": "markdown",
      "metadata": {
        "id": "vsdxRz2aKLj0"
      },
      "source": [
        "Deliver:\n",
        "\n",
        "* A zip file containing your notebook (.ipynb file) with all the [**CODE**] parts implemented.\n",
        "* A 5-pages PDF report including all parts of this notebook marked with \"[**REPORT**]\"\n",
        "\n",
        "The report should end with the following statement: **We hereby declare that, except for the code provided by the course instructors, all of our code, report, and figures were produced by ourselves.**"
      ]
    }
  ],
  "metadata": {
    "colab": {
      "provenance": [],
      "collapsed_sections": []
    },
    "kernelspec": {
      "display_name": "Python 3",
      "language": "python",
      "name": "python3"
    },
    "language_info": {
      "codemirror_mode": {
        "name": "ipython",
        "version": 3
      },
      "file_extension": ".py",
      "mimetype": "text/x-python",
      "name": "python",
      "nbconvert_exporter": "python",
      "pygments_lexer": "ipython3",
      "version": "3.8.5"
    },
    "toc": {
      "base_numbering": 1,
      "nav_menu": {},
      "number_sections": true,
      "sideBar": true,
      "skip_h1_title": false,
      "title_cell": "Table of Contents",
      "title_sidebar": "Contents",
      "toc_cell": false,
      "toc_position": {},
      "toc_section_display": true,
      "toc_window_display": false
    },
    "varInspector": {
      "cols": {
        "lenName": 16,
        "lenType": 16,
        "lenVar": 40
      },
      "kernels_config": {
        "python": {
          "delete_cmd_postfix": "",
          "delete_cmd_prefix": "del ",
          "library": "var_list.py",
          "varRefreshCmd": "print(var_dic_list())"
        },
        "r": {
          "delete_cmd_postfix": ") ",
          "delete_cmd_prefix": "rm(",
          "library": "var_list.r",
          "varRefreshCmd": "cat(var_dic_list()) "
        }
      },
      "types_to_exclude": [
        "module",
        "function",
        "builtin_function_or_method",
        "instance",
        "_Feature"
      ],
      "window_display": false
    }
  },
  "nbformat": 4,
  "nbformat_minor": 0
}